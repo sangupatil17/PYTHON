{
 "cells": [
  {
   "cell_type": "markdown",
   "id": "22b87e1a",
   "metadata": {},
   "source": [
    "# Basic algebra operations"
   ]
  },
  {
   "cell_type": "code",
   "execution_count": 1,
   "id": "65316239",
   "metadata": {},
   "outputs": [
    {
     "data": {
      "text/plain": [
       "3"
      ]
     },
     "execution_count": 1,
     "metadata": {},
     "output_type": "execute_result"
    }
   ],
   "source": [
    "1+2"
   ]
  },
  {
   "cell_type": "code",
   "execution_count": 2,
   "id": "2819ce71",
   "metadata": {},
   "outputs": [
    {
     "data": {
      "text/plain": [
       "18"
      ]
     },
     "execution_count": 2,
     "metadata": {},
     "output_type": "execute_result"
    }
   ],
   "source": [
    "20-2"
   ]
  },
  {
   "cell_type": "code",
   "execution_count": 3,
   "id": "595f3a39",
   "metadata": {},
   "outputs": [
    {
     "data": {
      "text/plain": [
       "21"
      ]
     },
     "execution_count": 3,
     "metadata": {},
     "output_type": "execute_result"
    }
   ],
   "source": [
    "3*7"
   ]
  },
  {
   "cell_type": "code",
   "execution_count": 4,
   "id": "e79696da",
   "metadata": {},
   "outputs": [
    {
     "data": {
      "text/plain": [
       "5.0"
      ]
     },
     "execution_count": 4,
     "metadata": {},
     "output_type": "execute_result"
    }
   ],
   "source": [
    "20/4"
   ]
  },
  {
   "cell_type": "code",
   "execution_count": 5,
   "id": "2758cb4f",
   "metadata": {},
   "outputs": [
    {
     "data": {
      "text/plain": [
       "2"
      ]
     },
     "execution_count": 5,
     "metadata": {},
     "output_type": "execute_result"
    }
   ],
   "source": [
    "2%3 # remainder"
   ]
  },
  {
   "cell_type": "code",
   "execution_count": 6,
   "id": "f17d6947",
   "metadata": {},
   "outputs": [
    {
     "data": {
      "text/plain": [
       "6"
      ]
     },
     "execution_count": 6,
     "metadata": {},
     "output_type": "execute_result"
    }
   ],
   "source": [
    "20//3"
   ]
  },
  {
   "cell_type": "code",
   "execution_count": 7,
   "id": "e12500a3",
   "metadata": {},
   "outputs": [
    {
     "data": {
      "text/plain": [
       "8"
      ]
     },
     "execution_count": 7,
     "metadata": {},
     "output_type": "execute_result"
    }
   ],
   "source": [
    "pow(2,3) # power operation 2 to the power 3"
   ]
  },
  {
   "cell_type": "code",
   "execution_count": 8,
   "id": "feb81cf1",
   "metadata": {},
   "outputs": [
    {
     "data": {
      "text/plain": [
       "8"
      ]
     },
     "execution_count": 8,
     "metadata": {},
     "output_type": "execute_result"
    }
   ],
   "source": [
    "2**3"
   ]
  },
  {
   "cell_type": "markdown",
   "id": "b3b3695d",
   "metadata": {},
   "source": [
    "## Variables in python"
   ]
  },
  {
   "cell_type": "code",
   "execution_count": 9,
   "id": "956df080",
   "metadata": {},
   "outputs": [],
   "source": [
    "x=10"
   ]
  },
  {
   "cell_type": "code",
   "execution_count": 10,
   "id": "27631eef",
   "metadata": {},
   "outputs": [
    {
     "data": {
      "text/plain": [
       "2198062328400"
      ]
     },
     "execution_count": 10,
     "metadata": {},
     "output_type": "execute_result"
    }
   ],
   "source": [
    "id(x) # location"
   ]
  },
  {
   "cell_type": "code",
   "execution_count": 11,
   "id": "e93a8dba",
   "metadata": {},
   "outputs": [],
   "source": [
    "y=10"
   ]
  },
  {
   "cell_type": "code",
   "execution_count": 12,
   "id": "0e9b5114",
   "metadata": {},
   "outputs": [
    {
     "data": {
      "text/plain": [
       "2198062328400"
      ]
     },
     "execution_count": 12,
     "metadata": {},
     "output_type": "execute_result"
    }
   ],
   "source": [
    "id(y)"
   ]
  },
  {
   "cell_type": "markdown",
   "id": "82b5ffa9",
   "metadata": {},
   "source": [
    "#\n",
    "- location is same because dainamic location"
   ]
  },
  {
   "cell_type": "code",
   "execution_count": 13,
   "id": "f5106138",
   "metadata": {},
   "outputs": [],
   "source": [
    "## swiping\n",
    "a=10\n",
    "b=20"
   ]
  },
  {
   "cell_type": "code",
   "execution_count": 14,
   "id": "ce80f694",
   "metadata": {},
   "outputs": [],
   "source": [
    "tem = a\n",
    "a=b\n",
    "b=tem"
   ]
  },
  {
   "cell_type": "code",
   "execution_count": 15,
   "id": "a7942490",
   "metadata": {},
   "outputs": [
    {
     "data": {
      "text/plain": [
       "20"
      ]
     },
     "execution_count": 15,
     "metadata": {},
     "output_type": "execute_result"
    }
   ],
   "source": [
    "a"
   ]
  },
  {
   "cell_type": "code",
   "execution_count": 16,
   "id": "19aba9e6",
   "metadata": {},
   "outputs": [
    {
     "data": {
      "text/plain": [
       "10"
      ]
     },
     "execution_count": 16,
     "metadata": {},
     "output_type": "execute_result"
    }
   ],
   "source": [
    "b"
   ]
  },
  {
   "cell_type": "code",
   "execution_count": 17,
   "id": "8c365a3b",
   "metadata": {},
   "outputs": [],
   "source": [
    "x=10\n",
    "y=20\n",
    "x,y,x=x+10,y*x,y-x\n",
    "# x+10=20, y*x=200, y-x=10"
   ]
  },
  {
   "cell_type": "markdown",
   "id": "75dad1bc",
   "metadata": {},
   "source": [
    "# \n",
    "- in an assignment operator python will first execute the right hand side then it will start from left "
   ]
  },
  {
   "cell_type": "code",
   "execution_count": 18,
   "id": "80ef8f01",
   "metadata": {},
   "outputs": [
    {
     "data": {
      "text/plain": [
       "10"
      ]
     },
     "execution_count": 18,
     "metadata": {},
     "output_type": "execute_result"
    }
   ],
   "source": [
    "x"
   ]
  },
  {
   "cell_type": "code",
   "execution_count": 19,
   "id": "208eb44a",
   "metadata": {},
   "outputs": [
    {
     "data": {
      "text/plain": [
       "200"
      ]
     },
     "execution_count": 19,
     "metadata": {},
     "output_type": "execute_result"
    }
   ],
   "source": [
    "y\n"
   ]
  },
  {
   "cell_type": "code",
   "execution_count": 20,
   "id": "fe0fceb8",
   "metadata": {},
   "outputs": [
    {
     "data": {
      "text/plain": [
       "10"
      ]
     },
     "execution_count": 20,
     "metadata": {},
     "output_type": "execute_result"
    }
   ],
   "source": [
    "x"
   ]
  },
  {
   "cell_type": "markdown",
   "id": "b406f9a0",
   "metadata": {},
   "source": [
    "## datatype and container"
   ]
  },
  {
   "cell_type": "code",
   "execution_count": 21,
   "id": "7cef454e",
   "metadata": {},
   "outputs": [
    {
     "data": {
      "text/plain": [
       "'\\nint \\nfloat\\nstring\\nboolian\\n\\n\\nlist\\ntuple\\nset\\ndict\\n\\n\\n'"
      ]
     },
     "execution_count": 21,
     "metadata": {},
     "output_type": "execute_result"
    }
   ],
   "source": [
    "\"\"\"\n",
    "int \n",
    "float\n",
    "string\n",
    "boolian\n",
    "\n",
    "\n",
    "list\n",
    "tuple\n",
    "set\n",
    "dict\n",
    "\n",
    "\n",
    "\"\"\""
   ]
  },
  {
   "cell_type": "markdown",
   "id": "514671f4",
   "metadata": {},
   "source": [
    "### int and float"
   ]
  },
  {
   "cell_type": "code",
   "execution_count": 22,
   "id": "a24575fc",
   "metadata": {},
   "outputs": [
    {
     "data": {
      "text/plain": [
       "int"
      ]
     },
     "execution_count": 22,
     "metadata": {},
     "output_type": "execute_result"
    }
   ],
   "source": [
    "x=7\n",
    "type(x)"
   ]
  },
  {
   "cell_type": "code",
   "execution_count": 23,
   "id": "fa7635e7",
   "metadata": {},
   "outputs": [
    {
     "data": {
      "text/plain": [
       "float"
      ]
     },
     "execution_count": 23,
     "metadata": {},
     "output_type": "execute_result"
    }
   ],
   "source": [
    "y=7.2\n",
    "type(y)"
   ]
  },
  {
   "cell_type": "code",
   "execution_count": 24,
   "id": "97e73b19",
   "metadata": {},
   "outputs": [],
   "source": [
    "x=20\n",
    "x=float(x)# covert into float"
   ]
  },
  {
   "cell_type": "code",
   "execution_count": 25,
   "id": "10d97e8b",
   "metadata": {},
   "outputs": [
    {
     "data": {
      "text/plain": [
       "20.0"
      ]
     },
     "execution_count": 25,
     "metadata": {},
     "output_type": "execute_result"
    }
   ],
   "source": [
    "x"
   ]
  },
  {
   "cell_type": "code",
   "execution_count": 26,
   "id": "6dda43e9",
   "metadata": {},
   "outputs": [
    {
     "data": {
      "text/plain": [
       "10.0"
      ]
     },
     "execution_count": 26,
     "metadata": {},
     "output_type": "execute_result"
    }
   ],
   "source": [
    "x=10.9\n",
    "x=int(x)\n",
    "x=float(x)\n",
    "x"
   ]
  },
  {
   "cell_type": "code",
   "execution_count": 27,
   "id": "b34091db",
   "metadata": {},
   "outputs": [],
   "source": [
    "# till introduction to python"
   ]
  },
  {
   "cell_type": "markdown",
   "id": "6a65f072",
   "metadata": {},
   "source": [
    "## string"
   ]
  },
  {
   "cell_type": "code",
   "execution_count": 28,
   "id": "e6c7cd28",
   "metadata": {},
   "outputs": [],
   "source": [
    "x = \"python\"\n",
    "y = 'python'\n",
    "z = '''python'''"
   ]
  },
  {
   "cell_type": "code",
   "execution_count": 29,
   "id": "151d8f5e",
   "metadata": {},
   "outputs": [
    {
     "data": {
      "text/plain": [
       "'pythonpythonpythonpythonpythonpythonpythonpythonpythonpython'"
      ]
     },
     "execution_count": 29,
     "metadata": {},
     "output_type": "execute_result"
    }
   ],
   "source": [
    "x*10"
   ]
  },
  {
   "cell_type": "code",
   "execution_count": 30,
   "id": "26f06bd4",
   "metadata": {},
   "outputs": [
    {
     "data": {
      "text/plain": [
       "'p'"
      ]
     },
     "execution_count": 30,
     "metadata": {},
     "output_type": "execute_result"
    }
   ],
   "source": [
    "x[0]"
   ]
  },
  {
   "cell_type": "code",
   "execution_count": 31,
   "id": "5af2b499",
   "metadata": {},
   "outputs": [
    {
     "data": {
      "text/plain": [
       "'y'"
      ]
     },
     "execution_count": 31,
     "metadata": {},
     "output_type": "execute_result"
    }
   ],
   "source": [
    "x[1]"
   ]
  },
  {
   "cell_type": "code",
   "execution_count": 32,
   "id": "20c5c9a3",
   "metadata": {},
   "outputs": [
    {
     "data": {
      "text/plain": [
       "2"
      ]
     },
     "execution_count": 32,
     "metadata": {},
     "output_type": "execute_result"
    }
   ],
   "source": [
    "x.index('t')"
   ]
  },
  {
   "cell_type": "code",
   "execution_count": 33,
   "id": "660db07d",
   "metadata": {},
   "outputs": [
    {
     "data": {
      "text/plain": [
       "1"
      ]
     },
     "execution_count": 33,
     "metadata": {},
     "output_type": "execute_result"
    }
   ],
   "source": [
    "x.count('t')"
   ]
  },
  {
   "cell_type": "code",
   "execution_count": 34,
   "id": "7eeaf3b4",
   "metadata": {},
   "outputs": [],
   "source": [
    "## these properties are exactly same to the list,string, tuple"
   ]
  },
  {
   "cell_type": "code",
   "execution_count": 35,
   "id": "ce14e950",
   "metadata": {},
   "outputs": [
    {
     "data": {
      "text/plain": [
       "'PYTHON'"
      ]
     },
     "execution_count": 35,
     "metadata": {},
     "output_type": "execute_result"
    }
   ],
   "source": [
    "x.upper()"
   ]
  },
  {
   "cell_type": "code",
   "execution_count": 36,
   "id": "0cb8c0ee",
   "metadata": {},
   "outputs": [
    {
     "data": {
      "text/plain": [
       "'python'"
      ]
     },
     "execution_count": 36,
     "metadata": {},
     "output_type": "execute_result"
    }
   ],
   "source": [
    "x.lower()"
   ]
  },
  {
   "cell_type": "code",
   "execution_count": 37,
   "id": "15a70431",
   "metadata": {},
   "outputs": [
    {
     "data": {
      "text/plain": [
       "'Python'"
      ]
     },
     "execution_count": 37,
     "metadata": {},
     "output_type": "execute_result"
    }
   ],
   "source": [
    "x.capitalize()"
   ]
  },
  {
   "cell_type": "code",
   "execution_count": 38,
   "id": "bd23b421",
   "metadata": {},
   "outputs": [
    {
     "data": {
      "text/plain": [
       "'Python'"
      ]
     },
     "execution_count": 38,
     "metadata": {},
     "output_type": "execute_result"
    }
   ],
   "source": [
    "x.title()"
   ]
  },
  {
   "cell_type": "code",
   "execution_count": 39,
   "id": "f78dc931",
   "metadata": {},
   "outputs": [],
   "source": [
    "x = 'python learning'"
   ]
  },
  {
   "cell_type": "code",
   "execution_count": 40,
   "id": "690ff160",
   "metadata": {},
   "outputs": [
    {
     "data": {
      "text/plain": [
       "'Python Learning'"
      ]
     },
     "execution_count": 40,
     "metadata": {},
     "output_type": "execute_result"
    }
   ],
   "source": [
    "x.title() # it will capitalize each words\n"
   ]
  },
  {
   "cell_type": "markdown",
   "id": "032f79ab",
   "metadata": {},
   "source": [
    "- whenever we can modify the object without changing the location they r called mutable objects, and whenever u cannot modify the object without changing the location the are immutable "
   ]
  },
  {
   "cell_type": "markdown",
   "id": "a1a65510",
   "metadata": {},
   "source": [
    "#### BOOLIAN\n",
    "- collection of true or false"
   ]
  },
  {
   "cell_type": "markdown",
   "id": "3bbe4a2b",
   "metadata": {},
   "source": [
    "- in python true = 1 and false = 0"
   ]
  },
  {
   "cell_type": "code",
   "execution_count": 41,
   "id": "53cc9796",
   "metadata": {},
   "outputs": [
    {
     "data": {
      "text/plain": [
       "7"
      ]
     },
     "execution_count": 41,
     "metadata": {},
     "output_type": "execute_result"
    }
   ],
   "source": [
    "6+True-False"
   ]
  },
  {
   "cell_type": "code",
   "execution_count": 42,
   "id": "35e7f9fd",
   "metadata": {},
   "outputs": [
    {
     "data": {
      "text/plain": [
       "True"
      ]
     },
     "execution_count": 42,
     "metadata": {},
     "output_type": "execute_result"
    }
   ],
   "source": [
    "1==True"
   ]
  },
  {
   "cell_type": "code",
   "execution_count": 43,
   "id": "22579047",
   "metadata": {},
   "outputs": [
    {
     "data": {
      "text/plain": [
       "False"
      ]
     },
     "execution_count": 43,
     "metadata": {},
     "output_type": "execute_result"
    }
   ],
   "source": [
    "bool(0)"
   ]
  },
  {
   "cell_type": "code",
   "execution_count": 44,
   "id": "16294fc7",
   "metadata": {},
   "outputs": [
    {
     "data": {
      "text/plain": [
       "True"
      ]
     },
     "execution_count": 44,
     "metadata": {},
     "output_type": "execute_result"
    }
   ],
   "source": [
    "bool('gshidhiofsdzi')"
   ]
  },
  {
   "cell_type": "code",
   "execution_count": 45,
   "id": "81e914dd",
   "metadata": {},
   "outputs": [
    {
     "data": {
      "text/plain": [
       "False"
      ]
     },
     "execution_count": 45,
     "metadata": {},
     "output_type": "execute_result"
    }
   ],
   "source": [
    "bool('')"
   ]
  },
  {
   "cell_type": "markdown",
   "id": "281da38e",
   "metadata": {},
   "source": [
    "#### list\n",
    "- collection of object"
   ]
  },
  {
   "cell_type": "markdown",
   "id": "c77b3b95",
   "metadata": {},
   "source": [
    "- all four datatypes Are immutable"
   ]
  },
  {
   "cell_type": "code",
   "execution_count": 46,
   "id": "807ab7bf",
   "metadata": {},
   "outputs": [],
   "source": [
    "x = [1,3.4,'dsa',True,[1,2,3]]"
   ]
  },
  {
   "cell_type": "code",
   "execution_count": 47,
   "id": "e34a7faf",
   "metadata": {},
   "outputs": [],
   "source": [
    "x[2]=\"python\""
   ]
  },
  {
   "cell_type": "code",
   "execution_count": 48,
   "id": "edf2d754",
   "metadata": {},
   "outputs": [
    {
     "data": {
      "text/plain": [
       "[1, 3.4, 'python', True, [1, 2, 3]]"
      ]
     },
     "execution_count": 48,
     "metadata": {},
     "output_type": "execute_result"
    }
   ],
   "source": [
    "x"
   ]
  },
  {
   "cell_type": "code",
   "execution_count": 49,
   "id": "b207238f",
   "metadata": {},
   "outputs": [
    {
     "data": {
      "text/plain": [
       "[1, 3.4, 'python', True, [1, 2, 3], 1, 3.4, 'python', True, [1, 2, 3]]"
      ]
     },
     "execution_count": 49,
     "metadata": {},
     "output_type": "execute_result"
    }
   ],
   "source": [
    "x+x"
   ]
  },
  {
   "cell_type": "code",
   "execution_count": 50,
   "id": "ec46682c",
   "metadata": {},
   "outputs": [
    {
     "data": {
      "text/plain": [
       "[1, 3.4, 'python', True, [1, 2, 3], 1, 3.4, 'python', True, [1, 2, 3]]"
      ]
     },
     "execution_count": 50,
     "metadata": {},
     "output_type": "execute_result"
    }
   ],
   "source": [
    "x*2"
   ]
  },
  {
   "cell_type": "code",
   "execution_count": 51,
   "id": "71a7a82a",
   "metadata": {},
   "outputs": [
    {
     "data": {
      "text/plain": [
       "1"
      ]
     },
     "execution_count": 51,
     "metadata": {},
     "output_type": "execute_result"
    }
   ],
   "source": [
    "x.index(3.4)"
   ]
  },
  {
   "cell_type": "code",
   "execution_count": 52,
   "id": "ce0437d0",
   "metadata": {},
   "outputs": [
    {
     "data": {
      "text/plain": [
       "0"
      ]
     },
     "execution_count": 52,
     "metadata": {},
     "output_type": "execute_result"
    }
   ],
   "source": [
    "x.count(2)"
   ]
  },
  {
   "cell_type": "code",
   "execution_count": 53,
   "id": "ffa223dd",
   "metadata": {},
   "outputs": [
    {
     "data": {
      "text/plain": [
       "2"
      ]
     },
     "execution_count": 53,
     "metadata": {},
     "output_type": "execute_result"
    }
   ],
   "source": [
    "x[4][1]"
   ]
  },
  {
   "cell_type": "code",
   "execution_count": 54,
   "id": "d9b5fc82",
   "metadata": {},
   "outputs": [
    {
     "data": {
      "text/plain": [
       "[1, 3.4, 'python', True, [1, 2, 3]]"
      ]
     },
     "execution_count": 54,
     "metadata": {},
     "output_type": "execute_result"
    }
   ],
   "source": [
    "x"
   ]
  },
  {
   "cell_type": "code",
   "execution_count": 55,
   "id": "3d7e72bf",
   "metadata": {},
   "outputs": [
    {
     "data": {
      "text/plain": [
       "[1, 3.4, 'python', True, [1, 2, 3], 10]"
      ]
     },
     "execution_count": 55,
     "metadata": {},
     "output_type": "execute_result"
    }
   ],
   "source": [
    "x.append(10)\n",
    "x"
   ]
  },
  {
   "cell_type": "code",
   "execution_count": 56,
   "id": "14e34bf1",
   "metadata": {},
   "outputs": [
    {
     "data": {
      "text/plain": [
       "[1, 25, 3.4, 'python', True, [1, 2, 3], 10]"
      ]
     },
     "execution_count": 56,
     "metadata": {},
     "output_type": "execute_result"
    }
   ],
   "source": [
    "x.insert(1,25) # inplace of index 1,inserting 25\n",
    "x"
   ]
  },
  {
   "cell_type": "code",
   "execution_count": 57,
   "id": "17559c6e",
   "metadata": {},
   "outputs": [
    {
     "data": {
      "text/plain": [
       "[1, 25, 3.4, 'python', True, [1, 2, 3], 10]"
      ]
     },
     "execution_count": 57,
     "metadata": {},
     "output_type": "execute_result"
    }
   ],
   "source": [
    "x"
   ]
  },
  {
   "cell_type": "code",
   "execution_count": 58,
   "id": "8e36aa9a",
   "metadata": {},
   "outputs": [
    {
     "data": {
      "text/plain": [
       "7"
      ]
     },
     "execution_count": 58,
     "metadata": {},
     "output_type": "execute_result"
    }
   ],
   "source": [
    "len(x)"
   ]
  },
  {
   "cell_type": "code",
   "execution_count": 59,
   "id": "6816a84a",
   "metadata": {},
   "outputs": [],
   "source": [
    "x.remove(10)"
   ]
  },
  {
   "cell_type": "code",
   "execution_count": 60,
   "id": "dac64113",
   "metadata": {},
   "outputs": [
    {
     "data": {
      "text/plain": [
       "[1, 25, 3.4, 'python', True, [1, 2, 3]]"
      ]
     },
     "execution_count": 60,
     "metadata": {},
     "output_type": "execute_result"
    }
   ],
   "source": [
    "x"
   ]
  },
  {
   "cell_type": "code",
   "execution_count": 61,
   "id": "7c3311d4",
   "metadata": {},
   "outputs": [
    {
     "ename": "ValueError",
     "evalue": "list.remove(x): x not in list",
     "output_type": "error",
     "traceback": [
      "\u001b[1;31m---------------------------------------------------------------------------\u001b[0m",
      "\u001b[1;31mValueError\u001b[0m                                Traceback (most recent call last)",
      "\u001b[1;32m~\\AppData\\Local\\Temp\\ipykernel_12896\\870265189.py\u001b[0m in \u001b[0;36m<module>\u001b[1;34m\u001b[0m\n\u001b[1;32m----> 1\u001b[1;33m \u001b[0mx\u001b[0m\u001b[1;33m.\u001b[0m\u001b[0mremove\u001b[0m\u001b[1;33m(\u001b[0m\u001b[1;36m10\u001b[0m\u001b[1;33m)\u001b[0m \u001b[1;31m# it will romove by the value\u001b[0m\u001b[1;33m\u001b[0m\u001b[1;33m\u001b[0m\u001b[0m\n\u001b[0m",
      "\u001b[1;31mValueError\u001b[0m: list.remove(x): x not in list"
     ]
    }
   ],
   "source": [
    "x.remove(10) # it will romove by the value "
   ]
  },
  {
   "cell_type": "code",
   "execution_count": null,
   "id": "aea8760f",
   "metadata": {},
   "outputs": [],
   "source": [
    "x"
   ]
  },
  {
   "cell_type": "code",
   "execution_count": null,
   "id": "0f34ce3f",
   "metadata": {},
   "outputs": [],
   "source": [
    "x.pop(2) # it will remove by the index"
   ]
  },
  {
   "cell_type": "code",
   "execution_count": null,
   "id": "174b8e01",
   "metadata": {},
   "outputs": [],
   "source": [
    "x"
   ]
  },
  {
   "cell_type": "code",
   "execution_count": null,
   "id": "397f9194",
   "metadata": {},
   "outputs": [],
   "source": [
    "x[5].pop(1)"
   ]
  },
  {
   "cell_type": "code",
   "execution_count": null,
   "id": "c465e5d7",
   "metadata": {},
   "outputs": [],
   "source": [
    "x = 'python'\n",
    "x = list(x)\n",
    "str(x)"
   ]
  },
  {
   "cell_type": "code",
   "execution_count": null,
   "id": "0ef13029",
   "metadata": {},
   "outputs": [],
   "source": [
    "x = 'python'\n",
    "x = list(x)\n",
    "''.join(x)"
   ]
  },
  {
   "cell_type": "code",
   "execution_count": null,
   "id": "75477563",
   "metadata": {},
   "outputs": [],
   "source": [
    "x = 'python'\n",
    "x = list(x)\n",
    "'*'.join(x)"
   ]
  },
  {
   "cell_type": "code",
   "execution_count": null,
   "id": "fa8ef329",
   "metadata": {},
   "outputs": [],
   "source": [
    "x = 'python'\n",
    "x = list(x)\n",
    "'__'.join(x)"
   ]
  },
  {
   "cell_type": "markdown",
   "id": "d1dd6c90",
   "metadata": {},
   "source": [
    "### TUPLE\n",
    "- collection of objects but immutable"
   ]
  },
  {
   "cell_type": "code",
   "execution_count": null,
   "id": "64fd520a",
   "metadata": {},
   "outputs": [],
   "source": [
    "x = (1,2,3,4,5)"
   ]
  },
  {
   "cell_type": "code",
   "execution_count": null,
   "id": "b96922b9",
   "metadata": {},
   "outputs": [],
   "source": [
    "x*2"
   ]
  },
  {
   "cell_type": "code",
   "execution_count": null,
   "id": "3542c632",
   "metadata": {},
   "outputs": [],
   "source": [
    "x+x"
   ]
  },
  {
   "cell_type": "code",
   "execution_count": null,
   "id": "cc0f6fe2",
   "metadata": {},
   "outputs": [],
   "source": [
    "x.count(1\n",
    "       )"
   ]
  },
  {
   "cell_type": "code",
   "execution_count": null,
   "id": "4bb92678",
   "metadata": {},
   "outputs": [],
   "source": [
    "x.index(5)"
   ]
  },
  {
   "cell_type": "markdown",
   "id": "2056b0d7",
   "metadata": {},
   "source": [
    "### SET\n",
    "- collection of unique immutable objects"
   ]
  },
  {
   "cell_type": "code",
   "execution_count": null,
   "id": "6a692454",
   "metadata": {},
   "outputs": [],
   "source": [
    "x = {1,2,3,\"sam\",(1,2,3)}# we cannot add list"
   ]
  },
  {
   "cell_type": "code",
   "execution_count": null,
   "id": "aa6fc307",
   "metadata": {},
   "outputs": [],
   "source": [
    "a = {1,2,3}\n",
    "b = {1,2,6}"
   ]
  },
  {
   "cell_type": "code",
   "execution_count": null,
   "id": "05e9ee7e",
   "metadata": {},
   "outputs": [],
   "source": [
    "a|b # union means which are all together in A and B "
   ]
  },
  {
   "cell_type": "code",
   "execution_count": null,
   "id": "b88c9bdd",
   "metadata": {},
   "outputs": [],
   "source": [
    "a&b # intesection means which are common in both"
   ]
  },
  {
   "cell_type": "code",
   "execution_count": null,
   "id": "8e12ffe6",
   "metadata": {},
   "outputs": [],
   "source": [
    "# till python (pandas and plots)"
   ]
  },
  {
   "cell_type": "code",
   "execution_count": null,
   "id": "bc4ba75f",
   "metadata": {},
   "outputs": [],
   "source": [
    "a"
   ]
  },
  {
   "cell_type": "code",
   "execution_count": null,
   "id": "c19d7065",
   "metadata": {},
   "outputs": [],
   "source": [
    "id(a)"
   ]
  },
  {
   "cell_type": "code",
   "execution_count": null,
   "id": "e9e47f7f",
   "metadata": {},
   "outputs": [],
   "source": [
    "a.add(10)"
   ]
  },
  {
   "cell_type": "code",
   "execution_count": null,
   "id": "b06963d8",
   "metadata": {},
   "outputs": [],
   "source": [
    "a"
   ]
  },
  {
   "cell_type": "code",
   "execution_count": null,
   "id": "b3a5aaa9",
   "metadata": {},
   "outputs": [],
   "source": [
    "b"
   ]
  },
  {
   "cell_type": "code",
   "execution_count": null,
   "id": "f9019086",
   "metadata": {},
   "outputs": [],
   "source": [
    "id(a)"
   ]
  },
  {
   "cell_type": "code",
   "execution_count": null,
   "id": "6d0adfed",
   "metadata": {},
   "outputs": [],
   "source": [
    "len(a)"
   ]
  },
  {
   "cell_type": "code",
   "execution_count": null,
   "id": "70116c56",
   "metadata": {},
   "outputs": [],
   "source": [
    "a-b  # those elements of a is not part of b"
   ]
  },
  {
   "cell_type": "code",
   "execution_count": null,
   "id": "0e799897",
   "metadata": {},
   "outputs": [],
   "source": [
    "b-a"
   ]
  },
  {
   "cell_type": "markdown",
   "id": "5c26bd85",
   "metadata": {},
   "source": [
    "### Dictionary"
   ]
  },
  {
   "cell_type": "code",
   "execution_count": null,
   "id": "cb28a5c2",
   "metadata": {},
   "outputs": [],
   "source": [
    "scores = {\n",
    "    \"s1\":12,\n",
    "    \"s2\":13,\n",
    "    \"s3\":14\n",
    "}"
   ]
  },
  {
   "cell_type": "code",
   "execution_count": null,
   "id": "89dc9650",
   "metadata": {},
   "outputs": [],
   "source": [
    "scores['s1']"
   ]
  },
  {
   "cell_type": "code",
   "execution_count": null,
   "id": "58aba3c3",
   "metadata": {},
   "outputs": [],
   "source": [
    "scores['s2']"
   ]
  },
  {
   "cell_type": "code",
   "execution_count": null,
   "id": "7c3e9811",
   "metadata": {},
   "outputs": [],
   "source": [
    "scores['s3']"
   ]
  },
  {
   "cell_type": "code",
   "execution_count": null,
   "id": "fe9cf1e4",
   "metadata": {},
   "outputs": [],
   "source": [
    "scores"
   ]
  },
  {
   "cell_type": "code",
   "execution_count": null,
   "id": "a29b9eff",
   "metadata": {},
   "outputs": [],
   "source": [
    "id(scores)"
   ]
  },
  {
   "cell_type": "code",
   "execution_count": null,
   "id": "1aecb94b",
   "metadata": {},
   "outputs": [],
   "source": [
    "# dictionary is mutable"
   ]
  },
  {
   "cell_type": "code",
   "execution_count": null,
   "id": "be7048ab",
   "metadata": {},
   "outputs": [],
   "source": [
    "scores['s4']=19"
   ]
  },
  {
   "cell_type": "code",
   "execution_count": null,
   "id": "a65111e9",
   "metadata": {},
   "outputs": [],
   "source": [
    "id(scores)"
   ]
  },
  {
   "cell_type": "code",
   "execution_count": null,
   "id": "f8857408",
   "metadata": {},
   "outputs": [],
   "source": [
    "scores"
   ]
  },
  {
   "cell_type": "code",
   "execution_count": null,
   "id": "a1e7628b",
   "metadata": {},
   "outputs": [],
   "source": [
    "scores.values()"
   ]
  },
  {
   "cell_type": "code",
   "execution_count": null,
   "id": "f047ded1",
   "metadata": {},
   "outputs": [],
   "source": [
    "scores.keys()"
   ]
  },
  {
   "cell_type": "code",
   "execution_count": null,
   "id": "acb6dc6e",
   "metadata": {},
   "outputs": [],
   "source": [
    "scores = {\n",
    "    \"s1\":12,\n",
    "    10:13,\n",
    "    10.2:14,\n",
    "    True:12,\n",
    "    (1,2,3):23\n",
    "}"
   ]
  },
  {
   "cell_type": "code",
   "execution_count": null,
   "id": "1389685b",
   "metadata": {},
   "outputs": [],
   "source": [
    "scores.keys()"
   ]
  },
  {
   "cell_type": "code",
   "execution_count": null,
   "id": "c40d2b2b",
   "metadata": {},
   "outputs": [],
   "source": [
    "scores = {\n",
    "    \"s1\":12,\n",
    "    \"s2\":13,\n",
    "    \"s3\":14\n",
    "}"
   ]
  },
  {
   "cell_type": "code",
   "execution_count": null,
   "id": "3499d3a6",
   "metadata": {},
   "outputs": [],
   "source": [
    "scores2022 = {\n",
    "    \"s5\":12,\n",
    "    \"s1\":19\n",
    "}"
   ]
  },
  {
   "cell_type": "code",
   "execution_count": null,
   "id": "4314cb57",
   "metadata": {},
   "outputs": [],
   "source": [
    "scores.update(scores2022)"
   ]
  },
  {
   "cell_type": "code",
   "execution_count": null,
   "id": "9f4e0c9a",
   "metadata": {},
   "outputs": [],
   "source": [
    "scores"
   ]
  },
  {
   "cell_type": "markdown",
   "id": "bd499ac4",
   "metadata": {},
   "source": [
    "### For loop"
   ]
  },
  {
   "cell_type": "code",
   "execution_count": null,
   "id": "32a14a1d",
   "metadata": {},
   "outputs": [],
   "source": [
    "l = [10,12,19,17,20]\n",
    "\n",
    "l[0] = l[0]+10\n",
    "l[1] = l[1]+10\n",
    "l[2] = l[2]+10\n",
    "l[3] = l[3]+10\n",
    "l[4] = l[4]+10\n"
   ]
  },
  {
   "cell_type": "code",
   "execution_count": null,
   "id": "972868e6",
   "metadata": {},
   "outputs": [],
   "source": [
    "l"
   ]
  },
  {
   "cell_type": "code",
   "execution_count": null,
   "id": "130b8e61",
   "metadata": {},
   "outputs": [],
   "source": [
    "l = [10,12,19,17,20]\n",
    "l2= []\n",
    "\n",
    "for i in l: # all numbers in list added one by one\n",
    "    print(l2)\n",
    "    l2.append(i+10)"
   ]
  },
  {
   "cell_type": "code",
   "execution_count": null,
   "id": "fbfbdee4",
   "metadata": {},
   "outputs": [],
   "source": [
    "l2"
   ]
  },
  {
   "cell_type": "code",
   "execution_count": null,
   "id": "305bc065",
   "metadata": {},
   "outputs": [],
   "source": [
    "l = [10,12,19,17,20]\n",
    "l2= []\n",
    "\n",
    "for i in l: # all numbers in list added one by one\n",
    "    print(l2)\n",
    "    l2.append(i*1.1)"
   ]
  },
  {
   "cell_type": "code",
   "execution_count": null,
   "id": "6b8696eb",
   "metadata": {},
   "outputs": [],
   "source": [
    "l2"
   ]
  },
  {
   "cell_type": "code",
   "execution_count": null,
   "id": "8124139a",
   "metadata": {},
   "outputs": [],
   "source": [
    "names = ['shiva','mahadev','mahakal']\n",
    "\n",
    "updated_data = []\n",
    "for i in names:\n",
    "    updated_data.append(i.upper())\n",
    "    print(updated_data)"
   ]
  },
  {
   "cell_type": "code",
   "execution_count": null,
   "id": "3e584551",
   "metadata": {},
   "outputs": [],
   "source": [
    "updated_data"
   ]
  },
  {
   "cell_type": "markdown",
   "id": "eae02f9e",
   "metadata": {},
   "source": [
    "### If, elif, and else"
   ]
  },
  {
   "cell_type": "code",
   "execution_count": null,
   "id": "ba5baef9",
   "metadata": {},
   "outputs": [],
   "source": [
    "x=10\n",
    "if x>9:\n",
    "    print(\"yes\")\n",
    "else:\n",
    "    print(\"no\")"
   ]
  },
  {
   "cell_type": "code",
   "execution_count": null,
   "id": "6073ed9a",
   "metadata": {},
   "outputs": [],
   "source": [
    "x=10\n",
    "if x==9:\n",
    "    x=x+5\n",
    "else:\n",
    "    x=x+4"
   ]
  },
  {
   "cell_type": "code",
   "execution_count": null,
   "id": "32311020",
   "metadata": {},
   "outputs": [],
   "source": [
    "x"
   ]
  },
  {
   "cell_type": "code",
   "execution_count": null,
   "id": "0bf15bf1",
   "metadata": {},
   "outputs": [],
   "source": [
    "x=8\n",
    "if x==9:\n",
    "    x=x+5\n",
    "else:\n",
    "    x=x+4"
   ]
  },
  {
   "cell_type": "code",
   "execution_count": null,
   "id": "15d3d77d",
   "metadata": {},
   "outputs": [],
   "source": [
    "x"
   ]
  },
  {
   "cell_type": "code",
   "execution_count": null,
   "id": "8fde29ce",
   "metadata": {},
   "outputs": [],
   "source": [
    "x=8\n",
    "if x==9:\n",
    "    x=x+5\n",
    "else:\n",
    "    x=x-4"
   ]
  },
  {
   "cell_type": "code",
   "execution_count": null,
   "id": "0cf046ac",
   "metadata": {},
   "outputs": [],
   "source": [
    "x"
   ]
  },
  {
   "cell_type": "code",
   "execution_count": null,
   "id": "88fa59e8",
   "metadata": {},
   "outputs": [],
   "source": [
    "x=8\n",
    "if x==9:\n",
    "    x=x+5\n",
    "elif x==8:\n",
    "    x=12\n",
    "else:\n",
    "    x=x-4 # untill it gets satisfied it continue,once it will get satisfied it terminates the operation"
   ]
  },
  {
   "cell_type": "code",
   "execution_count": null,
   "id": "cc10ee63",
   "metadata": {},
   "outputs": [],
   "source": [
    "x"
   ]
  },
  {
   "cell_type": "code",
   "execution_count": null,
   "id": "227212b8",
   "metadata": {},
   "outputs": [],
   "source": [
    "## For loop and if-else"
   ]
  },
  {
   "cell_type": "code",
   "execution_count": null,
   "id": "c049cba1",
   "metadata": {},
   "outputs": [],
   "source": [
    "names = ['shiva','mahadev','mahakal','Ram']\n",
    "updated_names=[]\n",
    "for i in names:\n",
    "    if len(i)>4:\n",
    "        updated_names.append(i)\n",
    "    "
   ]
  },
  {
   "cell_type": "code",
   "execution_count": null,
   "id": "11220314",
   "metadata": {},
   "outputs": [],
   "source": [
    "updated_names"
   ]
  },
  {
   "cell_type": "code",
   "execution_count": null,
   "id": "aa91ffd3",
   "metadata": {},
   "outputs": [],
   "source": [
    "names = ['shiva','mahadev','mahakal','Ram']\n",
    "larger_names=[]\n",
    "shorter_names=[]\n",
    "for i in names:\n",
    "    if len(i)>4:\n",
    "        larger_names.append(i)\n",
    "    else:\n",
    "        shorter_names.append(i)"
   ]
  },
  {
   "cell_type": "code",
   "execution_count": null,
   "id": "6b9ebd19",
   "metadata": {},
   "outputs": [],
   "source": [
    "larger_names"
   ]
  },
  {
   "cell_type": "code",
   "execution_count": null,
   "id": "bc61e19a",
   "metadata": {},
   "outputs": [],
   "source": [
    "shorter_names"
   ]
  },
  {
   "cell_type": "code",
   "execution_count": null,
   "id": "bf258516",
   "metadata": {},
   "outputs": [],
   "source": [
    "## till python(plot), normal distribution"
   ]
  },
  {
   "cell_type": "code",
   "execution_count": null,
   "id": "92790b35",
   "metadata": {},
   "outputs": [],
   "source": [
    "names = ['shiva','mahdev','mahakal','shambhu','kedar','mallikarjuna','eesha','aadiyogi','OM','NAMAH','SHIVAY','adi','anant']"
   ]
  },
  {
   "cell_type": "code",
   "execution_count": null,
   "id": "9aae3110",
   "metadata": {},
   "outputs": [],
   "source": [
    "larger_name=[]\n",
    "mid_name=[]\n",
    "shorter_name=[]\n",
    "\n",
    "for i in names:\n",
    "    if len(i)>6:\n",
    "        larger_name.append(i)\n",
    "    elif len(i) <4:\n",
    "        shorter_name.append(i)\n",
    "    else:\n",
    "        mid_name.append(i)"
   ]
  },
  {
   "cell_type": "code",
   "execution_count": null,
   "id": "071f9438",
   "metadata": {},
   "outputs": [],
   "source": [
    "larger_name"
   ]
  },
  {
   "cell_type": "code",
   "execution_count": null,
   "id": "6d25faa6",
   "metadata": {},
   "outputs": [],
   "source": [
    "shorter_name"
   ]
  },
  {
   "cell_type": "code",
   "execution_count": null,
   "id": "09c60ff5",
   "metadata": {},
   "outputs": [],
   "source": [
    "mid_name"
   ]
  },
  {
   "cell_type": "code",
   "execution_count": null,
   "id": "fe050663",
   "metadata": {},
   "outputs": [],
   "source": [
    "names = ['shiva','mahadev','mahakal','Ram']\n",
    "updated_names=[]\n",
    "\n",
    "for i in names:\n",
    "    if i[0] in \"aeiou\":\n",
    "        updated_names.apppend(i)\n",
    "    "
   ]
  },
  {
   "cell_type": "code",
   "execution_count": null,
   "id": "9ce6f71f",
   "metadata": {},
   "outputs": [],
   "source": [
    "# other way\n",
    "names = ['shiva','mahadev','mahakal','Ram']\n",
    "updated_names=[]\n",
    "\n",
    "for i in names:\n",
    "    if i[0]==\"a\" or i[0]==\"e\" or i[0]==\"i\" or i[0]==\"o\" or i[0]==\"u\":\n",
    "        updated_names.apppend(i)\n",
    "    \n"
   ]
  },
  {
   "cell_type": "code",
   "execution_count": null,
   "id": "52c98ebc",
   "metadata": {},
   "outputs": [],
   "source": [
    "# other way\n",
    "names = ['shiva','mahadev','mahakal','Ram','eesha','adi','om']\n",
    "updated_names=[]\n",
    "\n",
    "for i in names:\n",
    "    if i[0] in [\"a\",\"i\",\"e\",\"o\",\"u\"]:\n",
    "        updated_names.append(i)\n",
    "    "
   ]
  },
  {
   "cell_type": "code",
   "execution_count": null,
   "id": "3d05950b",
   "metadata": {},
   "outputs": [],
   "source": [
    "updated_names"
   ]
  },
  {
   "cell_type": "code",
   "execution_count": null,
   "id": "333fb84a",
   "metadata": {},
   "outputs": [],
   "source": [
    "names = ['shiva','mahdev','mahakal','shambhu','kedar','mallikarjuna','eesha','aadiyogi','OM','NAMAH','SHIVAY','adi','anant']\n",
    "updated_names=[]\n",
    "\n",
    "for i in names:\n",
    "    if i[0] in \"aeiou\":\n",
    "        updated_names.append(i)\n",
    " "
   ]
  },
  {
   "cell_type": "code",
   "execution_count": null,
   "id": "7c2e86ca",
   "metadata": {},
   "outputs": [],
   "source": [
    "updated_names"
   ]
  },
  {
   "cell_type": "code",
   "execution_count": null,
   "id": "1aea24b9",
   "metadata": {},
   "outputs": [],
   "source": [
    "num = 24\n",
    "l=[]\n",
    "for i in range(1,num+1):\n",
    "    if num%i==0:\n",
    "        l.append(i)\n"
   ]
  },
  {
   "cell_type": "code",
   "execution_count": null,
   "id": "cfbdb22a",
   "metadata": {},
   "outputs": [],
   "source": [
    "l"
   ]
  },
  {
   "cell_type": "code",
   "execution_count": null,
   "id": "2cc7a187",
   "metadata": {},
   "outputs": [],
   "source": [
    "num1 = 24\n",
    "l1 =[]\n",
    "for i in range(1,num1+1):\n",
    "    if num%i==0:\n",
    "        l1.append(i)\n",
    "        \n",
    "num2=36\n",
    "l2=[]\n",
    "for i in range(1,num2+1):\n",
    "    if num2%i==0:\n",
    "        l2.append(i)\n",
    "        \n",
    "\n",
    "l1=set(l1)\n",
    "l2=set(l2)\n",
    "\n",
    "\n",
    "\n",
    "\n",
    "l1&l2"
   ]
  },
  {
   "cell_type": "code",
   "execution_count": null,
   "id": "f879f322",
   "metadata": {},
   "outputs": [],
   "source": [
    "# second solution"
   ]
  },
  {
   "cell_type": "code",
   "execution_count": null,
   "id": "910bed06",
   "metadata": {},
   "outputs": [],
   "source": [
    "num1 = 24\n",
    "l1 =set()\n",
    "for i in range(1,num1+1):\n",
    "    if num%i==0:\n",
    "        l1.add(i)\n",
    "        \n",
    "num2=36\n",
    "l2=set()\n",
    "for i in range(1,num2+1):\n",
    "    if num2%i==0:\n",
    "        l2.add(i)\n",
    "        \n",
    "\n",
    "\n",
    "\n",
    "l1&l2"
   ]
  },
  {
   "cell_type": "code",
   "execution_count": null,
   "id": "d7790f56",
   "metadata": {},
   "outputs": [],
   "source": [
    "num1 = int(input())\n",
    "l1 =set()\n",
    "for i in range(1,num1+1):\n",
    "    if num%i==0:\n",
    "        l1.add(i)\n",
    "        \n",
    "num2=int(input())\n",
    "l2=set()\n",
    "for i in range(1,num2+1):\n",
    "    if num2%i==0:\n",
    "        l2.add(i)\n",
    "        \n",
    "\n",
    "\n",
    "\n",
    "l1&l2"
   ]
  },
  {
   "cell_type": "code",
   "execution_count": null,
   "id": "41055dbb",
   "metadata": {},
   "outputs": [],
   "source": [
    "num1 = 24\n",
    "num2=36\n",
    "common=[]\n",
    "for i in range(1,min(num1,num2)+1):\n",
    "    if num1%i==0 and num2%i==0:\n",
    "        \n",
    "        common.append(i)\n",
    "        \n",
    "print(common)"
   ]
  },
  {
   "cell_type": "markdown",
   "id": "d191fe23",
   "metadata": {},
   "source": [
    "### - Function\n",
    "- whenever a part of code we need to re-use we will put that inside a function "
   ]
  },
  {
   "cell_type": "code",
   "execution_count": null,
   "id": "08ba13c1",
   "metadata": {},
   "outputs": [],
   "source": [
    "num = 24\n",
    "l=[]\n",
    "for i in range(1,num+1):\n",
    "    if num%i==0:\n",
    "        l.append(i)\n",
    "print(l)"
   ]
  },
  {
   "cell_type": "code",
   "execution_count": null,
   "id": "6338b8d3",
   "metadata": {},
   "outputs": [],
   "source": [
    "def get_factors(num):\n",
    "    l=[]\n",
    "    for i in range(1,num+1):\n",
    "        if num%i==0:\n",
    "            l.append(i)\n",
    "            \n",
    "    print(l)"
   ]
  },
  {
   "cell_type": "code",
   "execution_count": null,
   "id": "73e385a0",
   "metadata": {},
   "outputs": [],
   "source": [
    "get_factors(24)"
   ]
  },
  {
   "cell_type": "code",
   "execution_count": null,
   "id": "9567e846",
   "metadata": {},
   "outputs": [],
   "source": [
    "get_factors(36)"
   ]
  },
  {
   "cell_type": "code",
   "execution_count": null,
   "id": "f0cb64c9",
   "metadata": {},
   "outputs": [],
   "source": [
    "get_factors(48)"
   ]
  },
  {
   "cell_type": "code",
   "execution_count": null,
   "id": "8b873e1e",
   "metadata": {},
   "outputs": [],
   "source": [
    "## till Normal distribution"
   ]
  },
  {
   "cell_type": "code",
   "execution_count": null,
   "id": "1757d33f",
   "metadata": {},
   "outputs": [],
   "source": [
    "num1 = int(input(\"please input the first number  \"))\n",
    "l1 =set()\n",
    "for i in range(1,num1+1):\n",
    "    if num1%i==0:\n",
    "        l1.add(i)\n",
    "        \n",
    "num2=int(input(\"please input the first number  \"))\n",
    "l2=set()\n",
    "for i in range(1,num2+1):\n",
    "    if num2%i==0:\n",
    "        l2.add(i)\n",
    "        \n",
    "\n",
    "\n",
    "\n",
    "l1&l2"
   ]
  },
  {
   "cell_type": "code",
   "execution_count": null,
   "id": "2016e2e4",
   "metadata": {},
   "outputs": [],
   "source": [
    "def gcd(num1,num2):\n",
    "    l1 =set()\n",
    "    for i in range(1,num1+1):\n",
    "        if num1%i==0:\n",
    "            l1.add(i)\n",
    "        \n",
    "    l2=set()\n",
    "    for i in range(1,num2+1):\n",
    "        if num2%i==0:\n",
    "            l2.add(i)\n",
    "            \n",
    "    print(l1&l2)"
   ]
  },
  {
   "cell_type": "code",
   "execution_count": null,
   "id": "269f7e7b",
   "metadata": {},
   "outputs": [],
   "source": [
    "gcd(12,24)"
   ]
  },
  {
   "cell_type": "code",
   "execution_count": null,
   "id": "c6ff2088",
   "metadata": {},
   "outputs": [],
   "source": [
    "gcd(24,32)"
   ]
  },
  {
   "cell_type": "code",
   "execution_count": null,
   "id": "410ec246",
   "metadata": {},
   "outputs": [],
   "source": [
    "def get_prime(num):\n",
    "    l =[]\n",
    "    for i in range (1,num+1):\n",
    "        if num%i==0:\n",
    "            l.append(i)\n",
    "            \n",
    "    if len(l)==2:\n",
    "        print(\"prime\")\n",
    "        \n",
    "    else:\n",
    "        print(\"Not prime\")\n",
    "        "
   ]
  },
  {
   "cell_type": "code",
   "execution_count": null,
   "id": "5da061e2",
   "metadata": {},
   "outputs": [],
   "source": [
    "get_prime(1)"
   ]
  },
  {
   "cell_type": "markdown",
   "id": "665cbc07",
   "metadata": {},
   "source": [
    "##### difference btw print and return"
   ]
  },
  {
   "cell_type": "code",
   "execution_count": null,
   "id": "f2e0fc87",
   "metadata": {},
   "outputs": [],
   "source": [
    "def get_factor1(num):\n",
    "    l = []\n",
    "    for i in range(1,num+1):\n",
    "        if num1%i==0:\n",
    "            l1.append(i)\n",
    "    print(l)\n",
    "    \n",
    "def get_factor2(num):\n",
    "    l = []\n",
    "    for i in range(1,num+1):\n",
    "        if num%i==0:\n",
    "            l.append(i)\n",
    "    return(l)    "
   ]
  },
  {
   "cell_type": "code",
   "execution_count": null,
   "id": "4619a585",
   "metadata": {},
   "outputs": [],
   "source": [
    "get_factor1(15)"
   ]
  },
  {
   "cell_type": "code",
   "execution_count": null,
   "id": "73aadadd",
   "metadata": {},
   "outputs": [],
   "source": [
    "def get_factor1(number):\n",
    "    l=[]\n",
    "    for i in range(1,number+1):\n",
    "        if number%i==0:\n",
    "            l.append(i)\n",
    "    print(l)\n",
    "    \n",
    "def get_factor2(number):\n",
    "    l=[]\n",
    "    for i in range(1,number+1):\n",
    "        if number%i==0:\n",
    "            l.append(i)\n",
    "    return(l)\n",
    "        \n",
    "    "
   ]
  },
  {
   "cell_type": "code",
   "execution_count": null,
   "id": "70523a53",
   "metadata": {},
   "outputs": [],
   "source": [
    "get_factor1(15)"
   ]
  },
  {
   "cell_type": "code",
   "execution_count": null,
   "id": "d82a94f5",
   "metadata": {},
   "outputs": [],
   "source": [
    "get_factor2(12)\n"
   ]
  },
  {
   "cell_type": "code",
   "execution_count": null,
   "id": "c9b46261",
   "metadata": {},
   "outputs": [],
   "source": [
    "a=get_factor1(15)"
   ]
  },
  {
   "cell_type": "code",
   "execution_count": null,
   "id": "c9be8fa0",
   "metadata": {},
   "outputs": [],
   "source": [
    "b=get_factor2(15)"
   ]
  },
  {
   "cell_type": "code",
   "execution_count": null,
   "id": "1516051f",
   "metadata": {},
   "outputs": [],
   "source": [
    "print(a)"
   ]
  },
  {
   "cell_type": "code",
   "execution_count": null,
   "id": "c73f0cd9",
   "metadata": {},
   "outputs": [],
   "source": [
    "print(b)"
   ]
  },
  {
   "cell_type": "markdown",
   "id": "6c59d239",
   "metadata": {},
   "source": [
    "- print is not genarate the value , it will just show the value\n",
    "- return will genarate the value and it can access"
   ]
  },
  {
   "cell_type": "markdown",
   "id": "1903a712",
   "metadata": {},
   "source": [
    "### List comprehension"
   ]
  },
  {
   "cell_type": "code",
   "execution_count": null,
   "id": "57a8deca",
   "metadata": {},
   "outputs": [],
   "source": [
    "names = [\"shiva\",'mahadev','mahakal','namah','shivay']\n",
    "updated_names=[]\n",
    "for j in names:\n",
    "    updated_names.append(j.capitalize())"
   ]
  },
  {
   "cell_type": "code",
   "execution_count": null,
   "id": "d013f7f3",
   "metadata": {},
   "outputs": [],
   "source": [
    "updated_names"
   ]
  },
  {
   "cell_type": "code",
   "execution_count": null,
   "id": "43b7e7f5",
   "metadata": {},
   "outputs": [],
   "source": [
    "# list comprehension"
   ]
  },
  {
   "cell_type": "code",
   "execution_count": null,
   "id": "e5027b18",
   "metadata": {},
   "outputs": [],
   "source": [
    "updated_names = [i.capitalize() for i in names]"
   ]
  },
  {
   "cell_type": "code",
   "execution_count": null,
   "id": "30e7049a",
   "metadata": {},
   "outputs": [],
   "source": [
    "updated_names"
   ]
  },
  {
   "cell_type": "markdown",
   "id": "8a4c536a",
   "metadata": {},
   "source": [
    "- what u want to store from where u want to store and when u want store"
   ]
  },
  {
   "cell_type": "code",
   "execution_count": null,
   "id": "44300b4a",
   "metadata": {},
   "outputs": [],
   "source": [
    "def get_prime(num):\n",
    "    l =[]\n",
    "    for i in range (1,num+1):\n",
    "        if num%i==0:\n",
    "            l.append(i)\n",
    "            \n",
    "    if len(l)==2:\n",
    "        print(\"prime\")\n",
    "        \n",
    "    else:\n",
    "        print(\"Not prime\")"
   ]
  },
  {
   "cell_type": "code",
   "execution_count": null,
   "id": "ab3511f6",
   "metadata": {},
   "outputs": [],
   "source": [
    "def get_prime(num):\n",
    "\n",
    "    return len([i for i in range(1,num+1) if num%1==0])==2\n",
    "    "
   ]
  },
  {
   "cell_type": "code",
   "execution_count": null,
   "id": "cb1b2a72",
   "metadata": {},
   "outputs": [],
   "source": [
    "get_prime(32)\n"
   ]
  },
  {
   "cell_type": "markdown",
   "id": "1e441221",
   "metadata": {},
   "source": [
    "### Map and filter"
   ]
  },
  {
   "cell_type": "code",
   "execution_count": null,
   "id": "5bfd80ab",
   "metadata": {},
   "outputs": [],
   "source": [
    "def get_factor(num):\n",
    "\n",
    "    l = [i for i in range(1,num+1) if num%i==0]\n",
    "    return l"
   ]
  },
  {
   "cell_type": "code",
   "execution_count": null,
   "id": "1c4cadc0",
   "metadata": {},
   "outputs": [],
   "source": [
    "get_factor(24)"
   ]
  },
  {
   "cell_type": "code",
   "execution_count": null,
   "id": "1c3cccfb",
   "metadata": {},
   "outputs": [],
   "source": [
    "get_factor(32)"
   ]
  },
  {
   "cell_type": "code",
   "execution_count": null,
   "id": "193e396d",
   "metadata": {},
   "outputs": [],
   "source": [
    "output = map(get_factor,[12,23,89,12,90])\n",
    "# map is process which will help u to run  multiple inputs"
   ]
  },
  {
   "cell_type": "code",
   "execution_count": null,
   "id": "55cc1c70",
   "metadata": {},
   "outputs": [],
   "source": [
    "list(output)"
   ]
  },
  {
   "cell_type": "code",
   "execution_count": null,
   "id": "9c52a82c",
   "metadata": {},
   "outputs": [],
   "source": [
    "def get_factor(num):\n",
    "\n",
    "    return len([i for i in range(1,num+1) if num%i==0])==2\n",
    "    "
   ]
  },
  {
   "cell_type": "code",
   "execution_count": null,
   "id": "f437b129",
   "metadata": {},
   "outputs": [],
   "source": [
    "output = filter(get_factor, range(50,100))"
   ]
  },
  {
   "cell_type": "code",
   "execution_count": null,
   "id": "728a51fa",
   "metadata": {},
   "outputs": [],
   "source": [
    "list(output)"
   ]
  },
  {
   "cell_type": "code",
   "execution_count": null,
   "id": "6c553247",
   "metadata": {},
   "outputs": [],
   "source": [
    "## till cl and test of hypothesis\n"
   ]
  },
  {
   "cell_type": "markdown",
   "id": "d8c244e1",
   "metadata": {},
   "source": [
    "### Lambda function"
   ]
  },
  {
   "cell_type": "code",
   "execution_count": null,
   "id": "80e370de",
   "metadata": {},
   "outputs": [],
   "source": [
    "def even_odd(number):\n",
    "    if number%2==0:\n",
    "        return \"even\"\n",
    "    else:\n",
    "        return \"odd\"\n",
    "    "
   ]
  },
  {
   "cell_type": "code",
   "execution_count": null,
   "id": "bdd4941c",
   "metadata": {},
   "outputs": [],
   "source": [
    " even_odd(10)"
   ]
  },
  {
   "cell_type": "code",
   "execution_count": null,
   "id": "36e56fa6",
   "metadata": {},
   "outputs": [],
   "source": [
    "even_odd(11)"
   ]
  },
  {
   "cell_type": "code",
   "execution_count": null,
   "id": "a8e98e8a",
   "metadata": {},
   "outputs": [],
   "source": [
    "even_odd=lambda number: number%2==0 "
   ]
  },
  {
   "cell_type": "code",
   "execution_count": null,
   "id": "8555adff",
   "metadata": {},
   "outputs": [],
   "source": [
    "even_odd(10)"
   ]
  },
  {
   "cell_type": "code",
   "execution_count": null,
   "id": "541ea06d",
   "metadata": {},
   "outputs": [],
   "source": [
    "even_odd(11)"
   ]
  },
  {
   "cell_type": "code",
   "execution_count": null,
   "id": "b236cc5c",
   "metadata": {},
   "outputs": [],
   "source": [
    "def get_prime(num):\n",
    "\n",
    "    return len([i for i in range(1,num+1) if num%1==0])==2\n",
    "    "
   ]
  },
  {
   "cell_type": "code",
   "execution_count": null,
   "id": "992673d7",
   "metadata": {},
   "outputs": [],
   "source": [
    "get_prime=lambda number: len([i for i in range(1,number+1) if number%1==0])==2\n",
    "    "
   ]
  },
  {
   "cell_type": "code",
   "execution_count": null,
   "id": "639d5966",
   "metadata": {},
   "outputs": [],
   "source": [
    "get_prime(13)"
   ]
  },
  {
   "cell_type": "code",
   "execution_count": null,
   "id": "b6d01f22",
   "metadata": {},
   "outputs": [],
   "source": [
    "get_prime(10)"
   ]
  },
  {
   "cell_type": "code",
   "execution_count": null,
   "id": "3c6c0cff",
   "metadata": {},
   "outputs": [],
   "source": [
    "get_prime(24)"
   ]
  },
  {
   "cell_type": "code",
   "execution_count": null,
   "id": "e4a45cec",
   "metadata": {},
   "outputs": [],
   "source": [
    "get_factor=lambda number: [i for i in range(1,number+1) if number%i==0]\n",
    "    "
   ]
  },
  {
   "cell_type": "code",
   "execution_count": null,
   "id": "30ecb848",
   "metadata": {},
   "outputs": [],
   "source": [
    "get_factor(24)"
   ]
  },
  {
   "cell_type": "markdown",
   "id": "2e956bca",
   "metadata": {},
   "source": [
    "### Exception handling"
   ]
  },
  {
   "cell_type": "code",
   "execution_count": null,
   "id": "4a835b2a",
   "metadata": {},
   "outputs": [],
   "source": [
    "v1=10\n",
    "v2=20\n",
    "v3=30/0\n",
    "v4=21"
   ]
  },
  {
   "cell_type": "code",
   "execution_count": null,
   "id": "8ea3a0f3",
   "metadata": {},
   "outputs": [],
   "source": [
    "def division (a,b):\n",
    "    try:\n",
    "        return a/b\n",
    "    except:\n",
    "        return \"send correct data\""
   ]
  },
  {
   "cell_type": "code",
   "execution_count": null,
   "id": "01815137",
   "metadata": {},
   "outputs": [],
   "source": [
    "division(20,3)"
   ]
  },
  {
   "cell_type": "code",
   "execution_count": null,
   "id": "f35f34c6",
   "metadata": {},
   "outputs": [],
   "source": [
    "division(20,0)"
   ]
  },
  {
   "cell_type": "code",
   "execution_count": null,
   "id": "f509a9a6",
   "metadata": {},
   "outputs": [],
   "source": [
    "def division (a,b):\n",
    "    try:\n",
    "        return a/b\n",
    "    except ZeroDivisionError:\n",
    "        return \"send correct data\"\n",
    "    except TypeError:\n",
    "        return\"send only numerical data\"\n",
    "    except Exceptiom as e:\n",
    "        return e"
   ]
  },
  {
   "cell_type": "code",
   "execution_count": null,
   "id": "6267670a",
   "metadata": {},
   "outputs": [],
   "source": [
    "division(20,5)"
   ]
  },
  {
   "cell_type": "code",
   "execution_count": null,
   "id": "df20ffc4",
   "metadata": {},
   "outputs": [],
   "source": [
    "division(20,0)"
   ]
  },
  {
   "cell_type": "code",
   "execution_count": null,
   "id": "e43c4392",
   "metadata": {},
   "outputs": [],
   "source": [
    "division(20,\"udhsih\")"
   ]
  },
  {
   "cell_type": "code",
   "execution_count": null,
   "id": "dc4ee53f",
   "metadata": {},
   "outputs": [],
   "source": [
    "def fun(x):\n",
    "    if x==0:\n",
    "        return 1\n",
    "    else :\n",
    "        return fun(x-1)+2"
   ]
  },
  {
   "cell_type": "code",
   "execution_count": null,
   "id": "8fae6583",
   "metadata": {},
   "outputs": [],
   "source": [
    "fun(5) "
   ]
  },
  {
   "cell_type": "markdown",
   "id": "16ce1d9d",
   "metadata": {},
   "source": [
    "- it will add the fun of x value and execute, then again it will add and it continuos "
   ]
  },
  {
   "cell_type": "code",
   "execution_count": null,
   "id": "0b8bb86d",
   "metadata": {},
   "outputs": [],
   "source": [
    "fun(3)"
   ]
  },
  {
   "cell_type": "code",
   "execution_count": null,
   "id": "a0bdfa39",
   "metadata": {},
   "outputs": [],
   "source": [
    "def fun(x):\n",
    "    if x==0:\n",
    "        return 1\n",
    "    else :\n",
    "        return fun(x-1)*x"
   ]
  },
  {
   "cell_type": "code",
   "execution_count": null,
   "id": "5571fbbd",
   "metadata": {},
   "outputs": [],
   "source": [
    "fun(5) # it will act like factortial"
   ]
  },
  {
   "cell_type": "code",
   "execution_count": null,
   "id": "e9133f8c",
   "metadata": {},
   "outputs": [],
   "source": [
    "1,1,2,3,5,8,13,21,34"
   ]
  },
  {
   "cell_type": "code",
   "execution_count": null,
   "id": "1b6372a4",
   "metadata": {},
   "outputs": [],
   "source": [
    "def fibonacci (n):\n",
    "    if n==1:\n",
    "        return 1\n",
    "    elif n==2:\n",
    "        return 1\n",
    "    else :\n",
    "        return fibonacci(n-1)+fibonacci(n-2)"
   ]
  },
  {
   "cell_type": "code",
   "execution_count": null,
   "id": "39094872",
   "metadata": {},
   "outputs": [],
   "source": [
    "fibonacci(4) # it is giving 4th number"
   ]
  },
  {
   "cell_type": "code",
   "execution_count": null,
   "id": "23a49dc5",
   "metadata": {},
   "outputs": [],
   "source": [
    "fibonacci(6)"
   ]
  },
  {
   "cell_type": "code",
   "execution_count": null,
   "id": "eae12450",
   "metadata": {},
   "outputs": [],
   "source": [
    "# IF WE WANT A LIST\n",
    "output = map(fibonacci,range(1,10))"
   ]
  },
  {
   "cell_type": "code",
   "execution_count": null,
   "id": "76d1583a",
   "metadata": {},
   "outputs": [],
   "source": [
    "list(output)"
   ]
  },
  {
   "cell_type": "code",
   "execution_count": null,
   "id": "826bc0fe",
   "metadata": {},
   "outputs": [],
   "source": [
    "count = 0\n",
    "def fibonacci(n):\n",
    "    l=[1,1]\n",
    "    print(l)\n",
    "    if n==1 or n==2 :\n",
    "        return 1\n",
    "    \n",
    "    else :\n",
    "        for i in range (3,n+1):\n",
    "            l.append(l[-1]+l[-2])\n",
    "            print(l)\n",
    "    return l[-1]"
   ]
  },
  {
   "cell_type": "code",
   "execution_count": null,
   "id": "3c3f688d",
   "metadata": {},
   "outputs": [],
   "source": [
    "fibonacci(15)"
   ]
  },
  {
   "cell_type": "code",
   "execution_count": null,
   "id": "bf5cefae",
   "metadata": {},
   "outputs": [],
   "source": [
    "# till testing hypothesis"
   ]
  },
  {
   "cell_type": "markdown",
   "id": "c0642973",
   "metadata": {},
   "source": [
    "### Pandas, numpy, and matplotlib"
   ]
  },
  {
   "cell_type": "code",
   "execution_count": null,
   "id": "801bfd15",
   "metadata": {},
   "outputs": [],
   "source": [
    "import pandas as pd\n",
    "import seaborn as sns\n",
    "import warnings\n",
    "warnings.filterwarnings(\"ignore\")"
   ]
  },
  {
   "cell_type": "code",
   "execution_count": null,
   "id": "f33af9d5",
   "metadata": {},
   "outputs": [],
   "source": [
    "iris =pd.read_csv(\"Iris.csv\")"
   ]
  },
  {
   "cell_type": "code",
   "execution_count": null,
   "id": "dc360d6d",
   "metadata": {},
   "outputs": [],
   "source": [
    "iris"
   ]
  },
  {
   "cell_type": "code",
   "execution_count": null,
   "id": "7b9214e5",
   "metadata": {},
   "outputs": [],
   "source": [
    "iris.head()"
   ]
  },
  {
   "cell_type": "code",
   "execution_count": null,
   "id": "8611ac7f",
   "metadata": {},
   "outputs": [],
   "source": [
    "iris.tail()"
   ]
  },
  {
   "cell_type": "code",
   "execution_count": null,
   "id": "481a208e",
   "metadata": {},
   "outputs": [],
   "source": [
    "iris.sample(3)"
   ]
  },
  {
   "cell_type": "code",
   "execution_count": null,
   "id": "75c7ecd0",
   "metadata": {},
   "outputs": [],
   "source": [
    "iris.describe()"
   ]
  },
  {
   "cell_type": "code",
   "execution_count": null,
   "id": "5de558ab",
   "metadata": {},
   "outputs": [],
   "source": [
    "iris.info()"
   ]
  },
  {
   "cell_type": "code",
   "execution_count": null,
   "id": "07602971",
   "metadata": {},
   "outputs": [],
   "source": [
    "iris.max()\n",
    "iris.min()\n",
    "iris.std()\n",
    "iris.var()\n"
   ]
  },
  {
   "cell_type": "code",
   "execution_count": null,
   "id": "143a6d00",
   "metadata": {},
   "outputs": [],
   "source": [
    "iris.columns"
   ]
  },
  {
   "cell_type": "code",
   "execution_count": null,
   "id": "39a660f7",
   "metadata": {},
   "outputs": [],
   "source": [
    "# specific row and column"
   ]
  },
  {
   "cell_type": "code",
   "execution_count": null,
   "id": "ec279d83",
   "metadata": {},
   "outputs": [],
   "source": [
    "iris.Species\n",
    "iris[\"Species\"]\n",
    "iris[[\"Species\"]]"
   ]
  },
  {
   "cell_type": "code",
   "execution_count": null,
   "id": "fc6e3561",
   "metadata": {},
   "outputs": [],
   "source": [
    "iris.columns"
   ]
  },
  {
   "cell_type": "code",
   "execution_count": null,
   "id": "ba93f8c2",
   "metadata": {},
   "outputs": [],
   "source": [
    "# changing column names\n",
    "iris.columns = ['id', 'sepal_length', 'sepal_width', 'petal_length', 'petal_width',\n",
    "       'species']"
   ]
  },
  {
   "cell_type": "code",
   "execution_count": null,
   "id": "0b29d8b0",
   "metadata": {},
   "outputs": [],
   "source": [
    "iris"
   ]
  },
  {
   "cell_type": "code",
   "execution_count": null,
   "id": "ffd3a9cf",
   "metadata": {},
   "outputs": [],
   "source": [
    "# LOC and ILOC"
   ]
  },
  {
   "cell_type": "code",
   "execution_count": null,
   "id": "ebdbb539",
   "metadata": {},
   "outputs": [],
   "source": [
    "# loc\n",
    "iris.loc[[0,1,2],[\"sepal_length\",\"sepal_width\",\"petal_length\"]]"
   ]
  },
  {
   "cell_type": "code",
   "execution_count": null,
   "id": "d38c46b3",
   "metadata": {},
   "outputs": [],
   "source": [
    "iris.loc[0:4,\"sepal_length\":\"sepal_width\"]"
   ]
  },
  {
   "cell_type": "code",
   "execution_count": null,
   "id": "ff9558bd",
   "metadata": {},
   "outputs": [],
   "source": [
    "# iloc"
   ]
  },
  {
   "cell_type": "code",
   "execution_count": null,
   "id": "9250432b",
   "metadata": {},
   "outputs": [],
   "source": [
    "iris.iloc[0:5,0:3]"
   ]
  },
  {
   "cell_type": "code",
   "execution_count": null,
   "id": "ebdfcb6c",
   "metadata": {},
   "outputs": [],
   "source": [
    "# filtering the data\n",
    "iris[iris.sepal_length>7]"
   ]
  },
  {
   "cell_type": "code",
   "execution_count": null,
   "id": "be385756",
   "metadata": {},
   "outputs": [],
   "source": [
    "iris[(iris.sepal_length>5.1)&(iris.species==\"Iris-setosa\")] # And condition means both the condition should be satisfied"
   ]
  },
  {
   "cell_type": "code",
   "execution_count": null,
   "id": "96b2f0fd",
   "metadata": {},
   "outputs": [],
   "source": [
    "iris[(iris.sepal_length>5.1)|(iris.species==\"Iris-setosa\")] # OR condition means either the first condition or 2nd condition or both the  the condition should be satisfied"
   ]
  },
  {
   "cell_type": "code",
   "execution_count": null,
   "id": "ce52d791",
   "metadata": {},
   "outputs": [],
   "source": [
    "# till EDA\n"
   ]
  },
  {
   "cell_type": "code",
   "execution_count": null,
   "id": "1c8be6a4",
   "metadata": {},
   "outputs": [],
   "source": [
    "iris.species.value_counts()"
   ]
  },
  {
   "cell_type": "code",
   "execution_count": null,
   "id": "4c9ea868",
   "metadata": {},
   "outputs": [],
   "source": [
    "iris.groupby([\"species\"])[\"sepal_length\"].describe()\n"
   ]
  },
  {
   "cell_type": "code",
   "execution_count": null,
   "id": "40f68a1a",
   "metadata": {},
   "outputs": [],
   "source": [
    "iris.groupby([\"species\"]).mean()"
   ]
  },
  {
   "cell_type": "code",
   "execution_count": null,
   "id": "22019075",
   "metadata": {},
   "outputs": [],
   "source": [
    "iris.sort_values([\"sepal_width\"],ascending=False)"
   ]
  },
  {
   "cell_type": "code",
   "execution_count": null,
   "id": "68e57fda",
   "metadata": {},
   "outputs": [],
   "source": [
    "iris.sort_values([\"id\"])"
   ]
  },
  {
   "cell_type": "code",
   "execution_count": null,
   "id": "4df4caa8",
   "metadata": {},
   "outputs": [],
   "source": [
    "## adding new column of petal length by appending l"
   ]
  },
  {
   "cell_type": "code",
   "execution_count": null,
   "id": "5b2c35af",
   "metadata": {},
   "outputs": [],
   "source": [
    "l = [\n",
    "    \n",
    "]\n",
    "for i in iris.petal_length:\n",
    "    if i>6:\n",
    "        l.append(\"Big\")\n",
    "    elif i<5:\n",
    "        l.append(\"small\")\n",
    "    else:\n",
    "        l.append(\"medium\")"
   ]
  },
  {
   "cell_type": "code",
   "execution_count": null,
   "id": "ce4df95b",
   "metadata": {},
   "outputs": [],
   "source": [
    "l"
   ]
  },
  {
   "cell_type": "code",
   "execution_count": null,
   "id": "21ab551a",
   "metadata": {},
   "outputs": [],
   "source": [
    "## adding l to our data\n",
    "iris[\"Size\"]=l"
   ]
  },
  {
   "cell_type": "code",
   "execution_count": null,
   "id": "a0a6880d",
   "metadata": {},
   "outputs": [],
   "source": [
    "iris"
   ]
  },
  {
   "cell_type": "code",
   "execution_count": null,
   "id": "4f8c8856",
   "metadata": {},
   "outputs": [],
   "source": [
    "iris.to_csv(\"temiris.csv\",index=False)"
   ]
  },
  {
   "cell_type": "code",
   "execution_count": null,
   "id": "27f2f270",
   "metadata": {},
   "outputs": [],
   "source": [
    "ls"
   ]
  },
  {
   "cell_type": "markdown",
   "id": "2e692d47",
   "metadata": {},
   "source": [
    "### Numpy\n",
    "- Mathematical operations"
   ]
  },
  {
   "cell_type": "code",
   "execution_count": null,
   "id": "a73925cd",
   "metadata": {},
   "outputs": [],
   "source": [
    "import numpy as np"
   ]
  },
  {
   "cell_type": "code",
   "execution_count": null,
   "id": "a7a04844",
   "metadata": {},
   "outputs": [],
   "source": [
    "a = np.array([[1,2,3],[4,5,6]])"
   ]
  },
  {
   "cell_type": "code",
   "execution_count": null,
   "id": "2d9d2e6b",
   "metadata": {},
   "outputs": [],
   "source": [
    "a"
   ]
  },
  {
   "cell_type": "code",
   "execution_count": null,
   "id": "4a14e424",
   "metadata": {},
   "outputs": [],
   "source": [
    "a.shape"
   ]
  },
  {
   "cell_type": "code",
   "execution_count": null,
   "id": "924e095b",
   "metadata": {},
   "outputs": [],
   "source": [
    "a.T"
   ]
  },
  {
   "cell_type": "code",
   "execution_count": null,
   "id": "a593e02a",
   "metadata": {},
   "outputs": [],
   "source": [
    "b = np.array([[1,2],[3,4],[5,6]])"
   ]
  },
  {
   "cell_type": "code",
   "execution_count": null,
   "id": "a39ae2b1",
   "metadata": {},
   "outputs": [],
   "source": [
    "b"
   ]
  },
  {
   "cell_type": "code",
   "execution_count": null,
   "id": "29f4c061",
   "metadata": {},
   "outputs": [],
   "source": [
    "b.shape"
   ]
  },
  {
   "cell_type": "code",
   "execution_count": null,
   "id": "34b3b57b",
   "metadata": {},
   "outputs": [],
   "source": [
    "b.T"
   ]
  },
  {
   "cell_type": "code",
   "execution_count": null,
   "id": "bdb60125",
   "metadata": {},
   "outputs": [],
   "source": [
    "a = np.array([[1,2],[4,9]])\n",
    "b = np.array([[0,1],[1,0]])"
   ]
  },
  {
   "cell_type": "code",
   "execution_count": null,
   "id": "32e8ce55",
   "metadata": {},
   "outputs": [],
   "source": [
    "a+b"
   ]
  },
  {
   "cell_type": "code",
   "execution_count": null,
   "id": "1ac2a996",
   "metadata": {},
   "outputs": [],
   "source": [
    "a-b"
   ]
  },
  {
   "cell_type": "code",
   "execution_count": null,
   "id": "c561858c",
   "metadata": {},
   "outputs": [],
   "source": [
    "a*b"
   ]
  },
  {
   "cell_type": "code",
   "execution_count": null,
   "id": "85668842",
   "metadata": {},
   "outputs": [],
   "source": [
    "a/b"
   ]
  },
  {
   "cell_type": "code",
   "execution_count": null,
   "id": "268a710d",
   "metadata": {},
   "outputs": [],
   "source": [
    "a"
   ]
  },
  {
   "cell_type": "code",
   "execution_count": null,
   "id": "f6ad1a0d",
   "metadata": {},
   "outputs": [],
   "source": [
    "b"
   ]
  },
  {
   "cell_type": "code",
   "execution_count": null,
   "id": "d1dcf1c0",
   "metadata": {},
   "outputs": [],
   "source": [
    "# matrix multiplication\n",
    "np.matmul(a,b)"
   ]
  },
  {
   "cell_type": "code",
   "execution_count": null,
   "id": "e554370c",
   "metadata": {},
   "outputs": [],
   "source": [
    "a = np.array([[1,2,3],[4,9,10],[2,9,5]])\n",
    "b = np.array([[0,1],[1,0]])"
   ]
  },
  {
   "cell_type": "code",
   "execution_count": null,
   "id": "1c711438",
   "metadata": {},
   "outputs": [],
   "source": [
    "a"
   ]
  },
  {
   "cell_type": "code",
   "execution_count": null,
   "id": "63691adc",
   "metadata": {},
   "outputs": [],
   "source": [
    "b"
   ]
  },
  {
   "cell_type": "code",
   "execution_count": null,
   "id": "8a08c50f",
   "metadata": {},
   "outputs": [],
   "source": [
    "np.matmul(a,b) # number of columns and number of rows should be same"
   ]
  },
  {
   "cell_type": "code",
   "execution_count": null,
   "id": "5447021a",
   "metadata": {},
   "outputs": [],
   "source": [
    "a = np.array([[1,2,3],[4,9,10],[2,9,5]])\n",
    "b = np.array([[0,1],[1,0],[5,6]])"
   ]
  },
  {
   "cell_type": "code",
   "execution_count": null,
   "id": "5126ba27",
   "metadata": {},
   "outputs": [],
   "source": [
    "np.matmul(a,b)"
   ]
  },
  {
   "cell_type": "code",
   "execution_count": null,
   "id": "aa122b88",
   "metadata": {},
   "outputs": [],
   "source": [
    "np.sin(30*(np.pi/180))"
   ]
  },
  {
   "cell_type": "code",
   "execution_count": null,
   "id": "0217d5ca",
   "metadata": {},
   "outputs": [],
   "source": [
    "np.sin(60*(np.pi/180))"
   ]
  },
  {
   "cell_type": "code",
   "execution_count": null,
   "id": "d6a0eae3",
   "metadata": {},
   "outputs": [],
   "source": [
    "np.sin(90*(np.pi/180))"
   ]
  },
  {
   "cell_type": "code",
   "execution_count": null,
   "id": "17e34c10",
   "metadata": {},
   "outputs": [],
   "source": [
    "np.cos(30*(np.pi/180))"
   ]
  },
  {
   "cell_type": "code",
   "execution_count": null,
   "id": "adee83be",
   "metadata": {},
   "outputs": [],
   "source": [
    "# till anova"
   ]
  },
  {
   "cell_type": "code",
   "execution_count": null,
   "id": "b62aceb0",
   "metadata": {},
   "outputs": [],
   "source": [
    "a"
   ]
  },
  {
   "cell_type": "code",
   "execution_count": null,
   "id": "694a8f80",
   "metadata": {},
   "outputs": [],
   "source": [
    "a.sum(axis=0)# it will add row vise "
   ]
  },
  {
   "cell_type": "code",
   "execution_count": null,
   "id": "4131bbd9",
   "metadata": {},
   "outputs": [],
   "source": [
    "a.sum(axis=1)# it will add column vise "
   ]
  },
  {
   "cell_type": "code",
   "execution_count": null,
   "id": "0bfe058a",
   "metadata": {},
   "outputs": [],
   "source": [
    "b"
   ]
  },
  {
   "cell_type": "code",
   "execution_count": null,
   "id": "dfaac027",
   "metadata": {},
   "outputs": [],
   "source": [
    "b.sum(axis=0)"
   ]
  },
  {
   "cell_type": "code",
   "execution_count": null,
   "id": "6c45eee4",
   "metadata": {},
   "outputs": [],
   "source": [
    "b.sum(axis=1)"
   ]
  },
  {
   "cell_type": "code",
   "execution_count": null,
   "id": "a0b92f42",
   "metadata": {},
   "outputs": [],
   "source": [
    "a.max(axis=0)"
   ]
  },
  {
   "cell_type": "code",
   "execution_count": null,
   "id": "96c40b9d",
   "metadata": {},
   "outputs": [],
   "source": [
    "b.max(axis=1)"
   ]
  },
  {
   "cell_type": "code",
   "execution_count": null,
   "id": "6d46d1be",
   "metadata": {},
   "outputs": [],
   "source": [
    "## linear equations"
   ]
  },
  {
   "cell_type": "code",
   "execution_count": null,
   "id": "a8af53a5",
   "metadata": {},
   "outputs": [],
   "source": [
    "'''\n",
    "x+2y=10\n",
    "2x+5y=23\n",
    "\n",
    "\n",
    "'''"
   ]
  },
  {
   "cell_type": "code",
   "execution_count": null,
   "id": "16cfcb12",
   "metadata": {},
   "outputs": [],
   "source": [
    "np.linalg.solve(np.array([[1,2],[2,5]]),[10,23])"
   ]
  },
  {
   "cell_type": "code",
   "execution_count": null,
   "id": "2a548e19",
   "metadata": {},
   "outputs": [],
   "source": [
    "# x=3,y=3"
   ]
  },
  {
   "cell_type": "code",
   "execution_count": null,
   "id": "dece97e2",
   "metadata": {},
   "outputs": [],
   "source": [
    "'''\n",
    "2x+1y+4z=10\n",
    "5x+2y+3z=14\n",
    "9x+4z+18y=29\n",
    "\n",
    "'''"
   ]
  },
  {
   "cell_type": "code",
   "execution_count": null,
   "id": "520a6eec",
   "metadata": {},
   "outputs": [],
   "source": [
    "np.linalg.solve(np.array([[2,1,4],[5,2,3],[9,18,4]]),[10,14,29])\n"
   ]
  },
  {
   "cell_type": "markdown",
   "id": "121a804f",
   "metadata": {},
   "source": [
    "## inverse "
   ]
  },
  {
   "cell_type": "code",
   "execution_count": null,
   "id": "afac3d17",
   "metadata": {},
   "outputs": [],
   "source": [
    "a = np.array([[1,6],[3,8]])\n",
    "identity = np.array([[1,0],[0,1]])"
   ]
  },
  {
   "cell_type": "code",
   "execution_count": null,
   "id": "7114228d",
   "metadata": {},
   "outputs": [],
   "source": [
    "a"
   ]
  },
  {
   "cell_type": "code",
   "execution_count": null,
   "id": "9aa5b487",
   "metadata": {},
   "outputs": [],
   "source": [
    "identity"
   ]
  },
  {
   "cell_type": "code",
   "execution_count": null,
   "id": "706787f6",
   "metadata": {},
   "outputs": [],
   "source": [
    "np.matmul(a,identity)"
   ]
  },
  {
   "cell_type": "code",
   "execution_count": null,
   "id": "cfab4591",
   "metadata": {},
   "outputs": [],
   "source": [
    "b=np.linalg.inv(a)\n",
    "np.matmul(a,b)"
   ]
  },
  {
   "cell_type": "markdown",
   "id": "e849303a",
   "metadata": {},
   "source": [
    "### Eigenvalues and eigenvectors"
   ]
  },
  {
   "cell_type": "markdown",
   "id": "53b4b75e",
   "metadata": {},
   "source": [
    "- if we multiply any vector with any metrics in genarally there are 2 changes is get to see, 1st is change in the magnitude/(size of the vector), 2nd one is direction of the vector\n",
    "\n",
    "- eigevectors are vectors those special vectors of a matrics when we multipy them with the metrics only magnitude will change but direction remain same"
   ]
  },
  {
   "cell_type": "code",
   "execution_count": null,
   "id": "435a3e88",
   "metadata": {},
   "outputs": [],
   "source": [
    "a = np.array([[2,1],[1,2]])\n",
    "b = np.array([10,-10])"
   ]
  },
  {
   "cell_type": "code",
   "execution_count": null,
   "id": "146e2ed6",
   "metadata": {},
   "outputs": [],
   "source": [
    "np.dot(a,b)"
   ]
  },
  {
   "cell_type": "code",
   "execution_count": null,
   "id": "d9701973",
   "metadata": {},
   "outputs": [],
   "source": [
    "a.shape"
   ]
  },
  {
   "cell_type": "code",
   "execution_count": null,
   "id": "5f54eaeb",
   "metadata": {},
   "outputs": [],
   "source": [
    "b.shape"
   ]
  },
  {
   "cell_type": "code",
   "execution_count": null,
   "id": "421de3e0",
   "metadata": {},
   "outputs": [],
   "source": [
    "np.linalg.eigh(a)"
   ]
  },
  {
   "cell_type": "code",
   "execution_count": null,
   "id": "ccaf94b0",
   "metadata": {},
   "outputs": [],
   "source": [
    "np.dot(a,[-0.7,+0.7])"
   ]
  },
  {
   "cell_type": "code",
   "execution_count": null,
   "id": "eb5ebc5f",
   "metadata": {},
   "outputs": [],
   "source": [
    "# till chi squared test"
   ]
  },
  {
   "cell_type": "markdown",
   "id": "44bd9cad",
   "metadata": {},
   "source": [
    "### Plot"
   ]
  },
  {
   "cell_type": "code",
   "execution_count": 64,
   "id": "cc615137",
   "metadata": {},
   "outputs": [],
   "source": [
    "import matplotlib.pyplot as plt\n",
    "import seaborn as sns"
   ]
  },
  {
   "cell_type": "code",
   "execution_count": 65,
   "id": "f8034eb2",
   "metadata": {},
   "outputs": [
    {
     "data": {
      "text/plain": [
       "<matplotlib.collections.PathCollection at 0x1ffd6fd1e20>"
      ]
     },
     "execution_count": 65,
     "metadata": {},
     "output_type": "execute_result"
    },
    {
     "data": {
      "image/png": "[encoded data removed]",
      "text/plain": [
       "<Figure size 640x480 with 1 Axes>"
      ]
     },
     "metadata": {},
     "output_type": "display_data"
    }
   ],
   "source": [
    "x=[1,2,3]\n",
    "y=[2,8,10]\n",
    "plt.scatter(x,y)"
   ]
  },
  {
   "cell_type": "code",
   "execution_count": 66,
   "id": "8642836d",
   "metadata": {},
   "outputs": [
    {
     "data": {
      "text/plain": [
       "[<matplotlib.lines.Line2D at 0x1ffd703b340>]"
      ]
     },
     "execution_count": 66,
     "metadata": {},
     "output_type": "execute_result"
    },
    {
     "data": {
      "image/png": "[encoded data removed]",
      "text/plain": [
       "<Figure size 640x480 with 1 Axes>"
      ]
     },
     "metadata": {},
     "output_type": "display_data"
    }
   ],
   "source": [
    "x=[1,2,3]\n",
    "y=[2,8,10]\n",
    "#plt.scatter(x,y)\n",
    "plt.plot(x,y)"
   ]
  },
  {
   "cell_type": "code",
   "execution_count": 67,
   "id": "581479c3",
   "metadata": {},
   "outputs": [
    {
     "data": {
      "text/plain": [
       "[<matplotlib.lines.Line2D at 0x1ffd70d6e80>]"
      ]
     },
     "execution_count": 67,
     "metadata": {},
     "output_type": "execute_result"
    },
    {
     "data": {
      "image/png": "[encoded data removed]",
      "text/plain": [
       "<Figure size 640x480 with 1 Axes>"
      ]
     },
     "metadata": {},
     "output_type": "display_data"
    }
   ],
   "source": [
    "x=[1,2,3]\n",
    "y=[2,8,10]\n",
    "plt.scatter(x,y) # with points and line\n",
    "plt.plot(x,y)"
   ]
  },
  {
   "cell_type": "code",
   "execution_count": 68,
   "id": "c671f41a",
   "metadata": {},
   "outputs": [
    {
     "data": {
      "text/plain": [
       "[<matplotlib.lines.Line2D at 0x1ffd723a070>]"
      ]
     },
     "execution_count": 68,
     "metadata": {},
     "output_type": "execute_result"
    },
    {
     "data": {
      "image/png": "[encoded data removed]",
      "text/plain": [
       "<Figure size 640x480 with 1 Axes>"
      ]
     },
     "metadata": {},
     "output_type": "display_data"
    }
   ],
   "source": [
    "x=[1,2,3]\n",
    "y=[2,8,10]\n",
    "plt.scatter(x,y,color=\"red\") # adding colors to the line\n",
    "plt.plot(x,y,color=\"black\")"
   ]
  },
  {
   "cell_type": "code",
   "execution_count": 69,
   "id": "6563c694",
   "metadata": {},
   "outputs": [
    {
     "data": {
      "text/plain": [
       "[<matplotlib.lines.Line2D at 0x1ffd72893a0>]"
      ]
     },
     "execution_count": 69,
     "metadata": {},
     "output_type": "execute_result"
    },
    {
     "data": {
      "image/png": "[encoded data removed]",
      "text/plain": [
       "<Figure size 1800x400 with 1 Axes>"
      ]
     },
     "metadata": {},
     "output_type": "display_data"
    }
   ],
   "source": [
    "plt.figure(figsize=(18,4)) # size of the graph\n",
    "x=[1,2,3]\n",
    "y=[2,8,10]\n",
    "plt.scatter(x,y,color=\"red\") \n",
    "plt.plot(x,y,color=\"black\")"
   ]
  },
  {
   "cell_type": "code",
   "execution_count": 70,
   "id": "457d7258",
   "metadata": {},
   "outputs": [
    {
     "name": "stderr",
     "output_type": "stream",
     "text": [
      "C:\\Users\\HP\\AppData\\Local\\Temp\\ipykernel_12896\\3278476299.py:1: MatplotlibDeprecationWarning: The seaborn styles shipped by Matplotlib are deprecated since 3.6, as they no longer correspond to the styles shipped by seaborn. However, they will remain available as 'seaborn-v0_8-<style>'. Alternatively, directly use the seaborn API instead.\n",
      "  plt.style.use(\"seaborn-darkgrid\")\n"
     ]
    },
    {
     "data": {
      "text/plain": [
       "[<matplotlib.lines.Line2D at 0x1ffd7314c70>]"
      ]
     },
     "execution_count": 70,
     "metadata": {},
     "output_type": "execute_result"
    },
    {
     "data": {
      "image/png": "[encoded data removed]",
      "text/plain": [
       "<Figure size 640x480 with 1 Axes>"
      ]
     },
     "metadata": {},
     "output_type": "display_data"
    }
   ],
   "source": [
    "plt.style.use(\"seaborn-darkgrid\")\n",
    "x=[1,2,3]\n",
    "y=[2,8,10]\n",
    "plt.scatter(x,y,color=\"red\") \n",
    "plt.plot(x,y,color=\"black\")"
   ]
  },
  {
   "cell_type": "code",
   "execution_count": 71,
   "id": "fc8ad5c8",
   "metadata": {},
   "outputs": [
    {
     "data": {
      "text/plain": [
       "[<matplotlib.lines.Line2D at 0x1ffd73a7e20>]"
      ]
     },
     "execution_count": 71,
     "metadata": {},
     "output_type": "execute_result"
    },
    {
     "data": {
      "image/png": "[encoded data removed]",
      "text/plain": [
       "<Figure size 1800x400 with 1 Axes>"
      ]
     },
     "metadata": {},
     "output_type": "display_data"
    }
   ],
   "source": [
    "plt.figure(figsize=(18,4)) # size of the graph\n",
    "x=[1,2,3]\n",
    "y=[2,8,10]\n",
    "plt.scatter(x,y,color=\"red\",s=200,marker='>') # size of the dots and marker\n",
    "plt.plot(x,y,color=\"black\",linewidth=3,linestyle=\":\") # line style and size of the line"
   ]
  },
  {
   "cell_type": "code",
   "execution_count": 72,
   "id": "9acd30d3",
   "metadata": {},
   "outputs": [
    {
     "data": {
      "text/plain": [
       "Text(0, 0.5, 'y Axis')"
      ]
     },
     "execution_count": 72,
     "metadata": {},
     "output_type": "execute_result"
    },
    {
     "data": {
      "image/png": "[encoded data removed]",
      "text/plain": [
       "<Figure size 1800x400 with 1 Axes>"
      ]
     },
     "metadata": {},
     "output_type": "display_data"
    }
   ],
   "source": [
    "plt.figure(figsize=(18,4)) # size of the graph\n",
    "x=[1,2,3]\n",
    "y=[2,8,10]\n",
    "plt.scatter(x,y,color=\"red\",s=200,marker='>') # size of the dots and marker\n",
    "plt.plot(x,y,color=\"black\",linewidth=3,linestyle=\":\")# line style and size of the line\n",
    "plt.xlabel(\"x Axis\",size=16)\n",
    "plt.ylabel(\"y Axis\",size=16) # label of x and y axis"
   ]
  },
  {
   "cell_type": "code",
   "execution_count": 73,
   "id": "ad2eca2a",
   "metadata": {},
   "outputs": [
    {
     "data": {
      "image/png": "[encoded data removed]",
      "text/plain": [
       "<Figure size 1800x400 with 1 Axes>"
      ]
     },
     "metadata": {},
     "output_type": "display_data"
    }
   ],
   "source": [
    "plt.figure(figsize=(18,4),facecolor=\"Lightgreen\") # size of the graph\n",
    "x=[1,2,3]\n",
    "y=[2,8,10]\n",
    "plt.scatter(x,y,color=\"red\",s=200,marker='>') # size of the dots and marker\n",
    "plt.plot(x,y,color=\"black\",linewidth=3,linestyle=\":\")# line style and size of the line\n",
    "plt.xlabel(\"x Axis\",size=16)\n",
    "plt.ylabel(\"y Axis\",size=16) # label of x and y axis\n",
    "plt.title(\"My plot\",size=18) # tile of the plot and size\n",
    "plt.xticks([1,2,3,4,5]) \n",
    "plt.yticks(range(1,12,2))\n",
    "plt.text(4,7,\"custom text\",color=\"red\",size=18)\n",
    "plt.text(1.2,2,\"custom text\",color=\"red\",size=18)\n",
    "\n",
    "plt.show()"
   ]
  },
  {
   "cell_type": "code",
   "execution_count": 79,
   "id": "4dd11994",
   "metadata": {},
   "outputs": [],
   "source": [
    "import pandas as pd"
   ]
  },
  {
   "cell_type": "code",
   "execution_count": 80,
   "id": "09e27e1e",
   "metadata": {},
   "outputs": [],
   "source": [
    "iris =pd.read_csv(\"Iris.csv\")"
   ]
  },
  {
   "cell_type": "code",
   "execution_count": 81,
   "id": "a77af047",
   "metadata": {},
   "outputs": [],
   "source": [
    "# changing column names\n",
    "iris.columns = ['id', 'sepal_length', 'sepal_width', 'petal_length', 'petal_width',\n",
    "       'species']"
   ]
  },
  {
   "cell_type": "code",
   "execution_count": 82,
   "id": "180d83e3",
   "metadata": {},
   "outputs": [
    {
     "data": {
      "text/html": [
       "<div>\n",
       "<style scoped>\n",
       "    .dataframe tbody tr th:only-of-type {\n",
       "        vertical-align: middle;\n",
       "    }\n",
       "\n",
       "    .dataframe tbody tr th {\n",
       "        vertical-align: top;\n",
       "    }\n",
       "\n",
       "    .dataframe thead th {\n",
       "        text-align: right;\n",
       "    }\n",
       "</style>\n",
       "<table border=\"1\" class=\"dataframe\">\n",
       "  <thead>\n",
       "    <tr style=\"text-align: right;\">\n",
       "      <th></th>\n",
       "      <th>id</th>\n",
       "      <th>sepal_length</th>\n",
       "      <th>sepal_width</th>\n",
       "      <th>petal_length</th>\n",
       "      <th>petal_width</th>\n",
       "      <th>species</th>\n",
       "    </tr>\n",
       "  </thead>\n",
       "  <tbody>\n",
       "    <tr>\n",
       "      <th>0</th>\n",
       "      <td>1</td>\n",
       "      <td>5.1</td>\n",
       "      <td>3.5</td>\n",
       "      <td>1.4</td>\n",
       "      <td>0.2</td>\n",
       "      <td>Iris-setosa</td>\n",
       "    </tr>\n",
       "    <tr>\n",
       "      <th>1</th>\n",
       "      <td>2</td>\n",
       "      <td>4.9</td>\n",
       "      <td>3.0</td>\n",
       "      <td>1.4</td>\n",
       "      <td>0.2</td>\n",
       "      <td>Iris-setosa</td>\n",
       "    </tr>\n",
       "    <tr>\n",
       "      <th>2</th>\n",
       "      <td>3</td>\n",
       "      <td>4.7</td>\n",
       "      <td>3.2</td>\n",
       "      <td>1.3</td>\n",
       "      <td>0.2</td>\n",
       "      <td>Iris-setosa</td>\n",
       "    </tr>\n",
       "    <tr>\n",
       "      <th>3</th>\n",
       "      <td>4</td>\n",
       "      <td>4.6</td>\n",
       "      <td>3.1</td>\n",
       "      <td>1.5</td>\n",
       "      <td>0.2</td>\n",
       "      <td>Iris-setosa</td>\n",
       "    </tr>\n",
       "    <tr>\n",
       "      <th>4</th>\n",
       "      <td>5</td>\n",
       "      <td>5.0</td>\n",
       "      <td>3.6</td>\n",
       "      <td>1.4</td>\n",
       "      <td>0.2</td>\n",
       "      <td>Iris-setosa</td>\n",
       "    </tr>\n",
       "    <tr>\n",
       "      <th>...</th>\n",
       "      <td>...</td>\n",
       "      <td>...</td>\n",
       "      <td>...</td>\n",
       "      <td>...</td>\n",
       "      <td>...</td>\n",
       "      <td>...</td>\n",
       "    </tr>\n",
       "    <tr>\n",
       "      <th>145</th>\n",
       "      <td>146</td>\n",
       "      <td>6.7</td>\n",
       "      <td>3.0</td>\n",
       "      <td>5.2</td>\n",
       "      <td>2.3</td>\n",
       "      <td>Iris-virginica</td>\n",
       "    </tr>\n",
       "    <tr>\n",
       "      <th>146</th>\n",
       "      <td>147</td>\n",
       "      <td>6.3</td>\n",
       "      <td>2.5</td>\n",
       "      <td>5.0</td>\n",
       "      <td>1.9</td>\n",
       "      <td>Iris-virginica</td>\n",
       "    </tr>\n",
       "    <tr>\n",
       "      <th>147</th>\n",
       "      <td>148</td>\n",
       "      <td>6.5</td>\n",
       "      <td>3.0</td>\n",
       "      <td>5.2</td>\n",
       "      <td>2.0</td>\n",
       "      <td>Iris-virginica</td>\n",
       "    </tr>\n",
       "    <tr>\n",
       "      <th>148</th>\n",
       "      <td>149</td>\n",
       "      <td>6.2</td>\n",
       "      <td>3.4</td>\n",
       "      <td>5.4</td>\n",
       "      <td>2.3</td>\n",
       "      <td>Iris-virginica</td>\n",
       "    </tr>\n",
       "    <tr>\n",
       "      <th>149</th>\n",
       "      <td>150</td>\n",
       "      <td>5.9</td>\n",
       "      <td>3.0</td>\n",
       "      <td>5.1</td>\n",
       "      <td>1.8</td>\n",
       "      <td>Iris-virginica</td>\n",
       "    </tr>\n",
       "  </tbody>\n",
       "</table>\n",
       "<p>150 rows × 6 columns</p>\n",
       "</div>"
      ],
      "text/plain": [
       "      id  sepal_length  sepal_width  petal_length  petal_width         species\n",
       "0      1           5.1          3.5           1.4          0.2     Iris-setosa\n",
       "1      2           4.9          3.0           1.4          0.2     Iris-setosa\n",
       "2      3           4.7          3.2           1.3          0.2     Iris-setosa\n",
       "3      4           4.6          3.1           1.5          0.2     Iris-setosa\n",
       "4      5           5.0          3.6           1.4          0.2     Iris-setosa\n",
       "..   ...           ...          ...           ...          ...             ...\n",
       "145  146           6.7          3.0           5.2          2.3  Iris-virginica\n",
       "146  147           6.3          2.5           5.0          1.9  Iris-virginica\n",
       "147  148           6.5          3.0           5.2          2.0  Iris-virginica\n",
       "148  149           6.2          3.4           5.4          2.3  Iris-virginica\n",
       "149  150           5.9          3.0           5.1          1.8  Iris-virginica\n",
       "\n",
       "[150 rows x 6 columns]"
      ]
     },
     "execution_count": 82,
     "metadata": {},
     "output_type": "execute_result"
    }
   ],
   "source": [
    "iris"
   ]
  },
  {
   "cell_type": "code",
   "execution_count": 83,
   "id": "57f4f17a",
   "metadata": {},
   "outputs": [
    {
     "data": {
      "text/plain": [
       "<AxesSubplot: xlabel='species', ylabel='petal_length'>"
      ]
     },
     "execution_count": 83,
     "metadata": {},
     "output_type": "execute_result"
    },
    {
     "data": {
      "image/png": "[encoded data removed]",
      "text/plain": [
       "<Figure size 1000x800 with 1 Axes>"
      ]
     },
     "metadata": {},
     "output_type": "display_data"
    }
   ],
   "source": [
    "plt.figure(figsize=(10,8),facecolor=\"Lightgreen\") # size of the graph\n",
    "\n",
    "sns.boxplot(x=\"species\",y=\"petal_length\",data=iris)"
   ]
  },
  {
   "cell_type": "code",
   "execution_count": 84,
   "id": "12871c51",
   "metadata": {},
   "outputs": [
    {
     "data": {
      "text/plain": [
       "<AxesSubplot: xlabel='species', ylabel='sepal_width'>"
      ]
     },
     "execution_count": 84,
     "metadata": {},
     "output_type": "execute_result"
    },
    {
     "data": {
      "image/png": "[encoded data removed]",
      "text/plain": [
       "<Figure size 1000x800 with 1 Axes>"
      ]
     },
     "metadata": {},
     "output_type": "display_data"
    }
   ],
   "source": [
    "plt.figure(figsize=(10,8),facecolor=\"Lightgreen\") # size of the graph\n",
    "\n",
    "sns.boxplot(x=\"species\",y=\"sepal_width\",data=iris)"
   ]
  },
  {
   "cell_type": "markdown",
   "id": "dee11017",
   "metadata": {},
   "source": [
    "## Histogram"
   ]
  },
  {
   "cell_type": "code",
   "execution_count": 85,
   "id": "99379c10",
   "metadata": {},
   "outputs": [
    {
     "data": {
      "image/png": "[encoded data removed]",
      "text/plain": [
       "<Figure size 1000x800 with 1 Axes>"
      ]
     },
     "metadata": {},
     "output_type": "display_data"
    }
   ],
   "source": [
    "plt.figure(figsize=(10,8),facecolor=\"Lightgreen\") # size of the graph\n",
    "\n",
    "plt.hist(iris.sepal_width,bins=20,facecolor=\"black\",edgecolor=\"red\")\n",
    "plt.show()"
   ]
  },
  {
   "cell_type": "code",
   "execution_count": 86,
   "id": "9b9ee3c0",
   "metadata": {},
   "outputs": [],
   "source": [
    "# till linear regression"
   ]
  },
  {
   "cell_type": "code",
   "execution_count": null,
   "id": "1febfcb6",
   "metadata": {},
   "outputs": [],
   "source": []
  },
  {
   "cell_type": "code",
   "execution_count": null,
   "id": "c1ddaec8",
   "metadata": {},
   "outputs": [],
   "source": []
  },
  {
   "cell_type": "code",
   "execution_count": null,
   "id": "222f7561",
   "metadata": {},
   "outputs": [],
   "source": []
  },
  {
   "cell_type": "code",
   "execution_count": null,
   "id": "47cb5a8b",
   "metadata": {},
   "outputs": [],
   "source": []
  },
  {
   "cell_type": "code",
   "execution_count": null,
   "id": "9ceebc6a",
   "metadata": {},
   "outputs": [],
   "source": []
  },
  {
   "cell_type": "code",
   "execution_count": null,
   "id": "e54535b4",
   "metadata": {},
   "outputs": [],
   "source": []
  },
  {
   "cell_type": "code",
   "execution_count": null,
   "id": "fb6a582c",
   "metadata": {},
   "outputs": [],
   "source": []
  },
  {
   "cell_type": "code",
   "execution_count": null,
   "id": "e81ad40f",
   "metadata": {},
   "outputs": [],
   "source": []
  },
  {
   "cell_type": "code",
   "execution_count": null,
   "id": "5b528641",
   "metadata": {},
   "outputs": [],
   "source": []
  }
 ],
 "metadata": {
  "kernelspec": {
   "display_name": "Python 3 (ipykernel)",
   "language": "python",
   "name": "python3"
  },
  "language_info": {
   "codemirror_mode": {
    "name": "ipython",
    "version": 3
   },
   "file_extension": ".py",
   "mimetype": "text/x-python",
   "name": "python",
   "nbconvert_exporter": "python",
   "pygments_lexer": "ipython3",
   "version": "3.9.13"
  }
 },
 "nbformat": 4,
 "nbformat_minor": 5
}
